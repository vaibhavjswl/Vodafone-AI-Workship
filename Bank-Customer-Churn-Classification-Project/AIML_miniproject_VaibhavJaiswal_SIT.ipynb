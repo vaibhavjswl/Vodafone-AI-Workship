{
  "nbformat": 4,
  "nbformat_minor": 0,
  "metadata": {
    "colab": {
      "name": "vodafone_miniprj_2.ipynb",
      "provenance": [],
      "collapsed_sections": [],
      "toc_visible": true
    },
    "kernelspec": {
      "name": "python3",
      "display_name": "Python 3"
    }
  },
  "cells": [
    {
      "source": [
        "# VODAFONE MINIPROJECT - CLASSIFICATION ON BANK CHURN DATASET\n",
        "\n",
        "## Vaibhav Jaiswal\n",
        "## PRN : 17070122071\n",
        "## Final Year CSE , 2017-2021\n",
        "## Symbiosis Institute of Technology , Pune"
      ],
      "cell_type": "markdown",
      "metadata": {}
    },
    {
      "cell_type": "code",
      "metadata": {
        "id": "D7kSFoC-UFZ3"
      },
      "source": [
        "#import required Libraries\r\n",
        "\r\n",
        "import pandas as pd\r\n",
        "import matplotlib.pyplot as plt \r\n",
        "%matplotlib inline\r\n",
        "import seaborn as sns\r\n",
        "import numpy as np\r\n",
        "from sklearn.preprocessing import OneHotEncoder"
      ],
      "execution_count": 1,
      "outputs": []
    },
    {
      "cell_type": "code",
      "metadata": {
        "colab": {
          "base_uri": "https://localhost:8080/",
          "height": 419
        },
        "id": "DhuSPxIzUIqd",
        "outputId": "fd34e3de-2662-4075-dac6-7d000559a767"
      },
      "source": [
        "#Read the Bank customer dataset\r\n",
        "bank_df = pd.read_csv(\"Bank_Customer_Churn_dataset.csv\")\r\n",
        "bank_df"
      ],
      "execution_count": 2,
      "outputs": [
        {
          "output_type": "execute_result",
          "data": {
            "text/html": [
              "<div>\n",
              "<style scoped>\n",
              "    .dataframe tbody tr th:only-of-type {\n",
              "        vertical-align: middle;\n",
              "    }\n",
              "\n",
              "    .dataframe tbody tr th {\n",
              "        vertical-align: top;\n",
              "    }\n",
              "\n",
              "    .dataframe thead th {\n",
              "        text-align: right;\n",
              "    }\n",
              "</style>\n",
              "<table border=\"1\" class=\"dataframe\">\n",
              "  <thead>\n",
              "    <tr style=\"text-align: right;\">\n",
              "      <th></th>\n",
              "      <th>RowNumber</th>\n",
              "      <th>CustomerId</th>\n",
              "      <th>Surname</th>\n",
              "      <th>CreditScore</th>\n",
              "      <th>Geography</th>\n",
              "      <th>Gender</th>\n",
              "      <th>Age</th>\n",
              "      <th>Tenure</th>\n",
              "      <th>Balance</th>\n",
              "      <th>NumOfProducts</th>\n",
              "      <th>HasCrCard</th>\n",
              "      <th>IsActiveMember</th>\n",
              "      <th>EstimatedSalary</th>\n",
              "      <th>Exited</th>\n",
              "    </tr>\n",
              "  </thead>\n",
              "  <tbody>\n",
              "    <tr>\n",
              "      <th>0</th>\n",
              "      <td>1</td>\n",
              "      <td>15634602</td>\n",
              "      <td>Hargrave</td>\n",
              "      <td>619</td>\n",
              "      <td>France</td>\n",
              "      <td>Female</td>\n",
              "      <td>42</td>\n",
              "      <td>2</td>\n",
              "      <td>0.00</td>\n",
              "      <td>1</td>\n",
              "      <td>1</td>\n",
              "      <td>1</td>\n",
              "      <td>101348.88</td>\n",
              "      <td>1</td>\n",
              "    </tr>\n",
              "    <tr>\n",
              "      <th>1</th>\n",
              "      <td>2</td>\n",
              "      <td>15647311</td>\n",
              "      <td>Hill</td>\n",
              "      <td>608</td>\n",
              "      <td>Spain</td>\n",
              "      <td>Female</td>\n",
              "      <td>41</td>\n",
              "      <td>1</td>\n",
              "      <td>83807.86</td>\n",
              "      <td>1</td>\n",
              "      <td>0</td>\n",
              "      <td>1</td>\n",
              "      <td>112542.58</td>\n",
              "      <td>0</td>\n",
              "    </tr>\n",
              "    <tr>\n",
              "      <th>2</th>\n",
              "      <td>3</td>\n",
              "      <td>15619304</td>\n",
              "      <td>Onio</td>\n",
              "      <td>502</td>\n",
              "      <td>France</td>\n",
              "      <td>Female</td>\n",
              "      <td>42</td>\n",
              "      <td>8</td>\n",
              "      <td>159660.80</td>\n",
              "      <td>3</td>\n",
              "      <td>1</td>\n",
              "      <td>0</td>\n",
              "      <td>113931.57</td>\n",
              "      <td>1</td>\n",
              "    </tr>\n",
              "    <tr>\n",
              "      <th>3</th>\n",
              "      <td>4</td>\n",
              "      <td>15701354</td>\n",
              "      <td>Boni</td>\n",
              "      <td>699</td>\n",
              "      <td>France</td>\n",
              "      <td>Female</td>\n",
              "      <td>39</td>\n",
              "      <td>1</td>\n",
              "      <td>0.00</td>\n",
              "      <td>2</td>\n",
              "      <td>0</td>\n",
              "      <td>0</td>\n",
              "      <td>93826.63</td>\n",
              "      <td>0</td>\n",
              "    </tr>\n",
              "    <tr>\n",
              "      <th>4</th>\n",
              "      <td>5</td>\n",
              "      <td>15737888</td>\n",
              "      <td>Mitchell</td>\n",
              "      <td>850</td>\n",
              "      <td>Spain</td>\n",
              "      <td>Female</td>\n",
              "      <td>43</td>\n",
              "      <td>2</td>\n",
              "      <td>125510.82</td>\n",
              "      <td>1</td>\n",
              "      <td>1</td>\n",
              "      <td>1</td>\n",
              "      <td>79084.10</td>\n",
              "      <td>0</td>\n",
              "    </tr>\n",
              "    <tr>\n",
              "      <th>...</th>\n",
              "      <td>...</td>\n",
              "      <td>...</td>\n",
              "      <td>...</td>\n",
              "      <td>...</td>\n",
              "      <td>...</td>\n",
              "      <td>...</td>\n",
              "      <td>...</td>\n",
              "      <td>...</td>\n",
              "      <td>...</td>\n",
              "      <td>...</td>\n",
              "      <td>...</td>\n",
              "      <td>...</td>\n",
              "      <td>...</td>\n",
              "      <td>...</td>\n",
              "    </tr>\n",
              "    <tr>\n",
              "      <th>9995</th>\n",
              "      <td>9996</td>\n",
              "      <td>15606229</td>\n",
              "      <td>Obijiaku</td>\n",
              "      <td>771</td>\n",
              "      <td>France</td>\n",
              "      <td>Male</td>\n",
              "      <td>39</td>\n",
              "      <td>5</td>\n",
              "      <td>0.00</td>\n",
              "      <td>2</td>\n",
              "      <td>1</td>\n",
              "      <td>0</td>\n",
              "      <td>96270.64</td>\n",
              "      <td>0</td>\n",
              "    </tr>\n",
              "    <tr>\n",
              "      <th>9996</th>\n",
              "      <td>9997</td>\n",
              "      <td>15569892</td>\n",
              "      <td>Johnstone</td>\n",
              "      <td>516</td>\n",
              "      <td>France</td>\n",
              "      <td>Male</td>\n",
              "      <td>35</td>\n",
              "      <td>10</td>\n",
              "      <td>57369.61</td>\n",
              "      <td>1</td>\n",
              "      <td>1</td>\n",
              "      <td>1</td>\n",
              "      <td>101699.77</td>\n",
              "      <td>0</td>\n",
              "    </tr>\n",
              "    <tr>\n",
              "      <th>9997</th>\n",
              "      <td>9998</td>\n",
              "      <td>15584532</td>\n",
              "      <td>Liu</td>\n",
              "      <td>709</td>\n",
              "      <td>France</td>\n",
              "      <td>Female</td>\n",
              "      <td>36</td>\n",
              "      <td>7</td>\n",
              "      <td>0.00</td>\n",
              "      <td>1</td>\n",
              "      <td>0</td>\n",
              "      <td>1</td>\n",
              "      <td>42085.58</td>\n",
              "      <td>1</td>\n",
              "    </tr>\n",
              "    <tr>\n",
              "      <th>9998</th>\n",
              "      <td>9999</td>\n",
              "      <td>15682355</td>\n",
              "      <td>Sabbatini</td>\n",
              "      <td>772</td>\n",
              "      <td>Germany</td>\n",
              "      <td>Male</td>\n",
              "      <td>42</td>\n",
              "      <td>3</td>\n",
              "      <td>75075.31</td>\n",
              "      <td>2</td>\n",
              "      <td>1</td>\n",
              "      <td>0</td>\n",
              "      <td>92888.52</td>\n",
              "      <td>1</td>\n",
              "    </tr>\n",
              "    <tr>\n",
              "      <th>9999</th>\n",
              "      <td>10000</td>\n",
              "      <td>15628319</td>\n",
              "      <td>Walker</td>\n",
              "      <td>792</td>\n",
              "      <td>France</td>\n",
              "      <td>Female</td>\n",
              "      <td>28</td>\n",
              "      <td>4</td>\n",
              "      <td>130142.79</td>\n",
              "      <td>1</td>\n",
              "      <td>1</td>\n",
              "      <td>0</td>\n",
              "      <td>38190.78</td>\n",
              "      <td>0</td>\n",
              "    </tr>\n",
              "  </tbody>\n",
              "</table>\n",
              "<p>10000 rows × 14 columns</p>\n",
              "</div>"
            ],
            "text/plain": [
              "      RowNumber  CustomerId    Surname  ...  IsActiveMember EstimatedSalary Exited\n",
              "0             1    15634602   Hargrave  ...               1       101348.88      1\n",
              "1             2    15647311       Hill  ...               1       112542.58      0\n",
              "2             3    15619304       Onio  ...               0       113931.57      1\n",
              "3             4    15701354       Boni  ...               0        93826.63      0\n",
              "4             5    15737888   Mitchell  ...               1        79084.10      0\n",
              "...         ...         ...        ...  ...             ...             ...    ...\n",
              "9995       9996    15606229   Obijiaku  ...               0        96270.64      0\n",
              "9996       9997    15569892  Johnstone  ...               1       101699.77      0\n",
              "9997       9998    15584532        Liu  ...               1        42085.58      1\n",
              "9998       9999    15682355  Sabbatini  ...               0        92888.52      1\n",
              "9999      10000    15628319     Walker  ...               0        38190.78      0\n",
              "\n",
              "[10000 rows x 14 columns]"
            ]
          },
          "metadata": {
            "tags": []
          },
          "execution_count": 2
        }
      ]
    },
    {
      "cell_type": "code",
      "metadata": {
        "colab": {
          "base_uri": "https://localhost:8080/"
        },
        "id": "63TIqpdgUSAl",
        "outputId": "41da9d9d-63d4-4ead-d778-5cb7a8c962ae"
      },
      "source": [
        "#see the types and counts of columns\r\n",
        "bank_df.info()"
      ],
      "execution_count": 3,
      "outputs": [
        {
          "output_type": "stream",
          "text": [
            "<class 'pandas.core.frame.DataFrame'>\n",
            "RangeIndex: 10000 entries, 0 to 9999\n",
            "Data columns (total 14 columns):\n",
            " #   Column           Non-Null Count  Dtype  \n",
            "---  ------           --------------  -----  \n",
            " 0   RowNumber        10000 non-null  int64  \n",
            " 1   CustomerId       10000 non-null  int64  \n",
            " 2   Surname          10000 non-null  object \n",
            " 3   CreditScore      10000 non-null  int64  \n",
            " 4   Geography        10000 non-null  object \n",
            " 5   Gender           10000 non-null  object \n",
            " 6   Age              10000 non-null  int64  \n",
            " 7   Tenure           10000 non-null  int64  \n",
            " 8   Balance          10000 non-null  float64\n",
            " 9   NumOfProducts    10000 non-null  int64  \n",
            " 10  HasCrCard        10000 non-null  int64  \n",
            " 11  IsActiveMember   10000 non-null  int64  \n",
            " 12  EstimatedSalary  10000 non-null  float64\n",
            " 13  Exited           10000 non-null  int64  \n",
            "dtypes: float64(2), int64(9), object(3)\n",
            "memory usage: 1.1+ MB\n"
          ],
          "name": "stdout"
        }
      ]
    },
    {
      "cell_type": "code",
      "metadata": {
        "colab": {
          "base_uri": "https://localhost:8080/"
        },
        "id": "F1rChXEYUjj0",
        "outputId": "88225b13-0860-4767-c479-6b7ca746ce04"
      },
      "source": [
        "#check how many null values are there if any\r\n",
        "bank_df.isna().sum()"
      ],
      "execution_count": 4,
      "outputs": [
        {
          "output_type": "execute_result",
          "data": {
            "text/plain": [
              "RowNumber          0\n",
              "CustomerId         0\n",
              "Surname            0\n",
              "CreditScore        0\n",
              "Geography          0\n",
              "Gender             0\n",
              "Age                0\n",
              "Tenure             0\n",
              "Balance            0\n",
              "NumOfProducts      0\n",
              "HasCrCard          0\n",
              "IsActiveMember     0\n",
              "EstimatedSalary    0\n",
              "Exited             0\n",
              "dtype: int64"
            ]
          },
          "metadata": {
            "tags": []
          },
          "execution_count": 4
        }
      ]
    },
    {
      "cell_type": "code",
      "metadata": {
        "colab": {
          "base_uri": "https://localhost:8080/"
        },
        "id": "aYl5BsfYUnuw",
        "outputId": "2e37f35c-197b-40f6-bde2-d72cbd1edda2"
      },
      "source": [
        "#check how many unique values are present in each columns\r\n",
        "bank_df.nunique()"
      ],
      "execution_count": 5,
      "outputs": [
        {
          "output_type": "execute_result",
          "data": {
            "text/plain": [
              "RowNumber          10000\n",
              "CustomerId         10000\n",
              "Surname             2932\n",
              "CreditScore          460\n",
              "Geography              3\n",
              "Gender                 2\n",
              "Age                   70\n",
              "Tenure                11\n",
              "Balance             6382\n",
              "NumOfProducts          4\n",
              "HasCrCard              2\n",
              "IsActiveMember         2\n",
              "EstimatedSalary     9999\n",
              "Exited                 2\n",
              "dtype: int64"
            ]
          },
          "metadata": {
            "tags": []
          },
          "execution_count": 5
        }
      ]
    },
    {
      "cell_type": "markdown",
      "metadata": {
        "id": "mMmBiaxZU3v0"
      },
      "source": [
        "Based on the number of unique values and well as domain insight we can see that row number , customer Id and surname is unique to each customer and therefore will not contribute towards classification and must be dropped"
      ]
    },
    {
      "cell_type": "code",
      "metadata": {
        "id": "ZfC6mK9jUxgB"
      },
      "source": [
        "#Drop RowNumber CustomerID and Surname\r\n",
        "bank_df = bank_df.drop(['RowNumber','CustomerId','Surname'],axis=1)"
      ],
      "execution_count": 6,
      "outputs": []
    },
    {
      "cell_type": "code",
      "metadata": {
        "colab": {
          "base_uri": "https://localhost:8080/"
        },
        "id": "etpeFEVxVSOu",
        "outputId": "3e9f573c-d95b-4069-ff0a-c1c8d606bcf3"
      },
      "source": [
        "#see info for remaining columns\r\n",
        "bank_df.info()"
      ],
      "execution_count": 7,
      "outputs": [
        {
          "output_type": "stream",
          "text": [
            "<class 'pandas.core.frame.DataFrame'>\n",
            "RangeIndex: 10000 entries, 0 to 9999\n",
            "Data columns (total 11 columns):\n",
            " #   Column           Non-Null Count  Dtype  \n",
            "---  ------           --------------  -----  \n",
            " 0   CreditScore      10000 non-null  int64  \n",
            " 1   Geography        10000 non-null  object \n",
            " 2   Gender           10000 non-null  object \n",
            " 3   Age              10000 non-null  int64  \n",
            " 4   Tenure           10000 non-null  int64  \n",
            " 5   Balance          10000 non-null  float64\n",
            " 6   NumOfProducts    10000 non-null  int64  \n",
            " 7   HasCrCard        10000 non-null  int64  \n",
            " 8   IsActiveMember   10000 non-null  int64  \n",
            " 9   EstimatedSalary  10000 non-null  float64\n",
            " 10  Exited           10000 non-null  int64  \n",
            "dtypes: float64(2), int64(7), object(2)\n",
            "memory usage: 859.5+ KB\n"
          ],
          "name": "stdout"
        }
      ]
    },
    {
      "cell_type": "markdown",
      "metadata": {
        "id": "FfsNkWO2WoQn"
      },
      "source": [
        "Given that tenure and age are related in the sense that tenure will be based on the age of the person and age of a person will be more than tenure. So we create a new variable called tenurebyage to normalize tenure over age of a person"
      ]
    },
    {
      "cell_type": "markdown",
      "metadata": {
        "id": "xhmtxpu3YAEI"
      },
      "source": [
        "# DATA PREP FOR MODEL FITTING"
      ]
    },
    {
      "cell_type": "code",
      "metadata": {
        "colab": {
          "base_uri": "https://localhost:8080/"
        },
        "id": "vbmBDDlPVYdq",
        "outputId": "44586ab2-0dd1-4b44-c829-7fef20ac4bef"
      },
      "source": [
        "bank_df['TenureByAge'] = bank_df.Tenure/(bank_df.Age)\r\n",
        "bank_df['TenureByAge']"
      ],
      "execution_count": 8,
      "outputs": [
        {
          "output_type": "execute_result",
          "data": {
            "text/plain": [
              "0       0.047619\n",
              "1       0.024390\n",
              "2       0.190476\n",
              "3       0.025641\n",
              "4       0.046512\n",
              "          ...   \n",
              "9995    0.128205\n",
              "9996    0.285714\n",
              "9997    0.194444\n",
              "9998    0.071429\n",
              "9999    0.142857\n",
              "Name: TenureByAge, Length: 10000, dtype: float64"
            ]
          },
          "metadata": {
            "tags": []
          },
          "execution_count": 8
        }
      ]
    },
    {
      "cell_type": "markdown",
      "metadata": {
        "id": "ZXhsD4K7XN7y"
      },
      "source": [
        "A persons spending behaviour will vary with age , so their credit score is bound to vary according to their age . as people generally spend a lot or take loans in their youth and as their age progresses they focus on savings and clearing debt\r\n",
        "So we create a variable called Creditbyage which takes this behaviour into account according to age"
      ]
    },
    {
      "cell_type": "code",
      "metadata": {
        "colab": {
          "base_uri": "https://localhost:8080/"
        },
        "id": "ITP3s1oxXBZb",
        "outputId": "b07dff62-f712-4a28-9321-f3375b7fcc8e"
      },
      "source": [
        "bank_df[\"CreditScoreByAge\"] = bank_df.CreditScore/bank_df.Age\r\n",
        "bank_df[\"CreditScoreByAge\"]"
      ],
      "execution_count": 9,
      "outputs": [
        {
          "output_type": "execute_result",
          "data": {
            "text/plain": [
              "0       14.738095\n",
              "1       14.829268\n",
              "2       11.952381\n",
              "3       17.923077\n",
              "4       19.767442\n",
              "          ...    \n",
              "9995    19.769231\n",
              "9996    14.742857\n",
              "9997    19.694444\n",
              "9998    18.380952\n",
              "9999    28.285714\n",
              "Name: CreditScoreByAge, Length: 10000, dtype: float64"
            ]
          },
          "metadata": {
            "tags": []
          },
          "execution_count": 9
        }
      ]
    },
    {
      "cell_type": "code",
      "metadata": {
        "colab": {
          "base_uri": "https://localhost:8080/",
          "height": 359
        },
        "id": "REwzahAeYlq9",
        "outputId": "2e739f6f-cdd2-43ca-cbfc-a42de58a2921"
      },
      "source": [
        "bank_df.head(10)"
      ],
      "execution_count": 10,
      "outputs": [
        {
          "output_type": "execute_result",
          "data": {
            "text/html": [
              "<div>\n",
              "<style scoped>\n",
              "    .dataframe tbody tr th:only-of-type {\n",
              "        vertical-align: middle;\n",
              "    }\n",
              "\n",
              "    .dataframe tbody tr th {\n",
              "        vertical-align: top;\n",
              "    }\n",
              "\n",
              "    .dataframe thead th {\n",
              "        text-align: right;\n",
              "    }\n",
              "</style>\n",
              "<table border=\"1\" class=\"dataframe\">\n",
              "  <thead>\n",
              "    <tr style=\"text-align: right;\">\n",
              "      <th></th>\n",
              "      <th>CreditScore</th>\n",
              "      <th>Geography</th>\n",
              "      <th>Gender</th>\n",
              "      <th>Age</th>\n",
              "      <th>Tenure</th>\n",
              "      <th>Balance</th>\n",
              "      <th>NumOfProducts</th>\n",
              "      <th>HasCrCard</th>\n",
              "      <th>IsActiveMember</th>\n",
              "      <th>EstimatedSalary</th>\n",
              "      <th>Exited</th>\n",
              "      <th>TenureByAge</th>\n",
              "      <th>CreditScoreByAge</th>\n",
              "    </tr>\n",
              "  </thead>\n",
              "  <tbody>\n",
              "    <tr>\n",
              "      <th>0</th>\n",
              "      <td>619</td>\n",
              "      <td>France</td>\n",
              "      <td>Female</td>\n",
              "      <td>42</td>\n",
              "      <td>2</td>\n",
              "      <td>0.00</td>\n",
              "      <td>1</td>\n",
              "      <td>1</td>\n",
              "      <td>1</td>\n",
              "      <td>101348.88</td>\n",
              "      <td>1</td>\n",
              "      <td>0.047619</td>\n",
              "      <td>14.738095</td>\n",
              "    </tr>\n",
              "    <tr>\n",
              "      <th>1</th>\n",
              "      <td>608</td>\n",
              "      <td>Spain</td>\n",
              "      <td>Female</td>\n",
              "      <td>41</td>\n",
              "      <td>1</td>\n",
              "      <td>83807.86</td>\n",
              "      <td>1</td>\n",
              "      <td>0</td>\n",
              "      <td>1</td>\n",
              "      <td>112542.58</td>\n",
              "      <td>0</td>\n",
              "      <td>0.024390</td>\n",
              "      <td>14.829268</td>\n",
              "    </tr>\n",
              "    <tr>\n",
              "      <th>2</th>\n",
              "      <td>502</td>\n",
              "      <td>France</td>\n",
              "      <td>Female</td>\n",
              "      <td>42</td>\n",
              "      <td>8</td>\n",
              "      <td>159660.80</td>\n",
              "      <td>3</td>\n",
              "      <td>1</td>\n",
              "      <td>0</td>\n",
              "      <td>113931.57</td>\n",
              "      <td>1</td>\n",
              "      <td>0.190476</td>\n",
              "      <td>11.952381</td>\n",
              "    </tr>\n",
              "    <tr>\n",
              "      <th>3</th>\n",
              "      <td>699</td>\n",
              "      <td>France</td>\n",
              "      <td>Female</td>\n",
              "      <td>39</td>\n",
              "      <td>1</td>\n",
              "      <td>0.00</td>\n",
              "      <td>2</td>\n",
              "      <td>0</td>\n",
              "      <td>0</td>\n",
              "      <td>93826.63</td>\n",
              "      <td>0</td>\n",
              "      <td>0.025641</td>\n",
              "      <td>17.923077</td>\n",
              "    </tr>\n",
              "    <tr>\n",
              "      <th>4</th>\n",
              "      <td>850</td>\n",
              "      <td>Spain</td>\n",
              "      <td>Female</td>\n",
              "      <td>43</td>\n",
              "      <td>2</td>\n",
              "      <td>125510.82</td>\n",
              "      <td>1</td>\n",
              "      <td>1</td>\n",
              "      <td>1</td>\n",
              "      <td>79084.10</td>\n",
              "      <td>0</td>\n",
              "      <td>0.046512</td>\n",
              "      <td>19.767442</td>\n",
              "    </tr>\n",
              "    <tr>\n",
              "      <th>5</th>\n",
              "      <td>645</td>\n",
              "      <td>Spain</td>\n",
              "      <td>Male</td>\n",
              "      <td>44</td>\n",
              "      <td>8</td>\n",
              "      <td>113755.78</td>\n",
              "      <td>2</td>\n",
              "      <td>1</td>\n",
              "      <td>0</td>\n",
              "      <td>149756.71</td>\n",
              "      <td>1</td>\n",
              "      <td>0.181818</td>\n",
              "      <td>14.659091</td>\n",
              "    </tr>\n",
              "    <tr>\n",
              "      <th>6</th>\n",
              "      <td>822</td>\n",
              "      <td>France</td>\n",
              "      <td>Male</td>\n",
              "      <td>50</td>\n",
              "      <td>7</td>\n",
              "      <td>0.00</td>\n",
              "      <td>2</td>\n",
              "      <td>1</td>\n",
              "      <td>1</td>\n",
              "      <td>10062.80</td>\n",
              "      <td>0</td>\n",
              "      <td>0.140000</td>\n",
              "      <td>16.440000</td>\n",
              "    </tr>\n",
              "    <tr>\n",
              "      <th>7</th>\n",
              "      <td>376</td>\n",
              "      <td>Germany</td>\n",
              "      <td>Female</td>\n",
              "      <td>29</td>\n",
              "      <td>4</td>\n",
              "      <td>115046.74</td>\n",
              "      <td>4</td>\n",
              "      <td>1</td>\n",
              "      <td>0</td>\n",
              "      <td>119346.88</td>\n",
              "      <td>1</td>\n",
              "      <td>0.137931</td>\n",
              "      <td>12.965517</td>\n",
              "    </tr>\n",
              "    <tr>\n",
              "      <th>8</th>\n",
              "      <td>501</td>\n",
              "      <td>France</td>\n",
              "      <td>Male</td>\n",
              "      <td>44</td>\n",
              "      <td>4</td>\n",
              "      <td>142051.07</td>\n",
              "      <td>2</td>\n",
              "      <td>0</td>\n",
              "      <td>1</td>\n",
              "      <td>74940.50</td>\n",
              "      <td>0</td>\n",
              "      <td>0.090909</td>\n",
              "      <td>11.386364</td>\n",
              "    </tr>\n",
              "    <tr>\n",
              "      <th>9</th>\n",
              "      <td>684</td>\n",
              "      <td>France</td>\n",
              "      <td>Male</td>\n",
              "      <td>27</td>\n",
              "      <td>2</td>\n",
              "      <td>134603.88</td>\n",
              "      <td>1</td>\n",
              "      <td>1</td>\n",
              "      <td>1</td>\n",
              "      <td>71725.73</td>\n",
              "      <td>0</td>\n",
              "      <td>0.074074</td>\n",
              "      <td>25.333333</td>\n",
              "    </tr>\n",
              "  </tbody>\n",
              "</table>\n",
              "</div>"
            ],
            "text/plain": [
              "   CreditScore Geography  Gender  ...  Exited  TenureByAge  CreditScoreByAge\n",
              "0          619    France  Female  ...       1     0.047619         14.738095\n",
              "1          608     Spain  Female  ...       0     0.024390         14.829268\n",
              "2          502    France  Female  ...       1     0.190476         11.952381\n",
              "3          699    France  Female  ...       0     0.025641         17.923077\n",
              "4          850     Spain  Female  ...       0     0.046512         19.767442\n",
              "5          645     Spain    Male  ...       1     0.181818         14.659091\n",
              "6          822    France    Male  ...       0     0.140000         16.440000\n",
              "7          376   Germany  Female  ...       1     0.137931         12.965517\n",
              "8          501    France    Male  ...       0     0.090909         11.386364\n",
              "9          684    France    Male  ...       0     0.074074         25.333333\n",
              "\n",
              "[10 rows x 13 columns]"
            ]
          },
          "metadata": {
            "tags": []
          },
          "execution_count": 10
        }
      ]
    },
    {
      "cell_type": "markdown",
      "metadata": {
        "id": "agOYzEoAYL5B"
      },
      "source": [
        "## Lets min-max scale the  numerical columns so their range becomes same"
      ]
    },
    {
      "cell_type": "code",
      "metadata": {
        "colab": {
          "base_uri": "https://localhost:8080/",
          "height": 359
        },
        "id": "j25Mi1rwXyMs",
        "outputId": "e86633d7-c465-4e67-c8cf-ad82aa0bae8a"
      },
      "source": [
        "numerical_columns = ['CreditScore',  'Age', 'Tenure', 'Balance','NumOfProducts', 'EstimatedSalary',\r\n",
        "                   'TenureByAge','CreditScoreByAge']\r\n",
        "\r\n",
        "for column in numerical_columns:\r\n",
        "  minimum=bank_df[column].min()\r\n",
        "  maximum=bank_df[column].max()\r\n",
        "  bank_df[column] = (bank_df[column] - minimum)/(maximum-minimum)\r\n",
        "\r\n",
        "bank_df.head(10)\r\n"
      ],
      "execution_count": 11,
      "outputs": [
        {
          "output_type": "execute_result",
          "data": {
            "text/html": [
              "<div>\n",
              "<style scoped>\n",
              "    .dataframe tbody tr th:only-of-type {\n",
              "        vertical-align: middle;\n",
              "    }\n",
              "\n",
              "    .dataframe tbody tr th {\n",
              "        vertical-align: top;\n",
              "    }\n",
              "\n",
              "    .dataframe thead th {\n",
              "        text-align: right;\n",
              "    }\n",
              "</style>\n",
              "<table border=\"1\" class=\"dataframe\">\n",
              "  <thead>\n",
              "    <tr style=\"text-align: right;\">\n",
              "      <th></th>\n",
              "      <th>CreditScore</th>\n",
              "      <th>Geography</th>\n",
              "      <th>Gender</th>\n",
              "      <th>Age</th>\n",
              "      <th>Tenure</th>\n",
              "      <th>Balance</th>\n",
              "      <th>NumOfProducts</th>\n",
              "      <th>HasCrCard</th>\n",
              "      <th>IsActiveMember</th>\n",
              "      <th>EstimatedSalary</th>\n",
              "      <th>Exited</th>\n",
              "      <th>TenureByAge</th>\n",
              "      <th>CreditScoreByAge</th>\n",
              "    </tr>\n",
              "  </thead>\n",
              "  <tbody>\n",
              "    <tr>\n",
              "      <th>0</th>\n",
              "      <td>0.538</td>\n",
              "      <td>France</td>\n",
              "      <td>Female</td>\n",
              "      <td>0.324324</td>\n",
              "      <td>0.2</td>\n",
              "      <td>0.000000</td>\n",
              "      <td>0.000000</td>\n",
              "      <td>1</td>\n",
              "      <td>1</td>\n",
              "      <td>0.506735</td>\n",
              "      <td>1</td>\n",
              "      <td>0.085714</td>\n",
              "      <td>0.235083</td>\n",
              "    </tr>\n",
              "    <tr>\n",
              "      <th>1</th>\n",
              "      <td>0.516</td>\n",
              "      <td>Spain</td>\n",
              "      <td>Female</td>\n",
              "      <td>0.310811</td>\n",
              "      <td>0.1</td>\n",
              "      <td>0.334031</td>\n",
              "      <td>0.000000</td>\n",
              "      <td>0</td>\n",
              "      <td>1</td>\n",
              "      <td>0.562709</td>\n",
              "      <td>0</td>\n",
              "      <td>0.043902</td>\n",
              "      <td>0.237252</td>\n",
              "    </tr>\n",
              "    <tr>\n",
              "      <th>2</th>\n",
              "      <td>0.304</td>\n",
              "      <td>France</td>\n",
              "      <td>Female</td>\n",
              "      <td>0.324324</td>\n",
              "      <td>0.8</td>\n",
              "      <td>0.636357</td>\n",
              "      <td>0.666667</td>\n",
              "      <td>1</td>\n",
              "      <td>0</td>\n",
              "      <td>0.569654</td>\n",
              "      <td>1</td>\n",
              "      <td>0.342857</td>\n",
              "      <td>0.168807</td>\n",
              "    </tr>\n",
              "    <tr>\n",
              "      <th>3</th>\n",
              "      <td>0.698</td>\n",
              "      <td>France</td>\n",
              "      <td>Female</td>\n",
              "      <td>0.283784</td>\n",
              "      <td>0.1</td>\n",
              "      <td>0.000000</td>\n",
              "      <td>0.333333</td>\n",
              "      <td>0</td>\n",
              "      <td>0</td>\n",
              "      <td>0.469120</td>\n",
              "      <td>0</td>\n",
              "      <td>0.046154</td>\n",
              "      <td>0.310859</td>\n",
              "    </tr>\n",
              "    <tr>\n",
              "      <th>4</th>\n",
              "      <td>1.000</td>\n",
              "      <td>Spain</td>\n",
              "      <td>Female</td>\n",
              "      <td>0.337838</td>\n",
              "      <td>0.2</td>\n",
              "      <td>0.500246</td>\n",
              "      <td>0.000000</td>\n",
              "      <td>1</td>\n",
              "      <td>1</td>\n",
              "      <td>0.395400</td>\n",
              "      <td>0</td>\n",
              "      <td>0.083721</td>\n",
              "      <td>0.354739</td>\n",
              "    </tr>\n",
              "    <tr>\n",
              "      <th>5</th>\n",
              "      <td>0.590</td>\n",
              "      <td>Spain</td>\n",
              "      <td>Male</td>\n",
              "      <td>0.351351</td>\n",
              "      <td>0.8</td>\n",
              "      <td>0.453394</td>\n",
              "      <td>0.333333</td>\n",
              "      <td>1</td>\n",
              "      <td>0</td>\n",
              "      <td>0.748797</td>\n",
              "      <td>1</td>\n",
              "      <td>0.327273</td>\n",
              "      <td>0.233203</td>\n",
              "    </tr>\n",
              "    <tr>\n",
              "      <th>6</th>\n",
              "      <td>0.944</td>\n",
              "      <td>France</td>\n",
              "      <td>Male</td>\n",
              "      <td>0.432432</td>\n",
              "      <td>0.7</td>\n",
              "      <td>0.000000</td>\n",
              "      <td>0.333333</td>\n",
              "      <td>1</td>\n",
              "      <td>1</td>\n",
              "      <td>0.050261</td>\n",
              "      <td>0</td>\n",
              "      <td>0.252000</td>\n",
              "      <td>0.275574</td>\n",
              "    </tr>\n",
              "    <tr>\n",
              "      <th>7</th>\n",
              "      <td>0.052</td>\n",
              "      <td>Germany</td>\n",
              "      <td>Female</td>\n",
              "      <td>0.148649</td>\n",
              "      <td>0.4</td>\n",
              "      <td>0.458540</td>\n",
              "      <td>1.000000</td>\n",
              "      <td>1</td>\n",
              "      <td>0</td>\n",
              "      <td>0.596733</td>\n",
              "      <td>1</td>\n",
              "      <td>0.248276</td>\n",
              "      <td>0.192911</td>\n",
              "    </tr>\n",
              "    <tr>\n",
              "      <th>8</th>\n",
              "      <td>0.302</td>\n",
              "      <td>France</td>\n",
              "      <td>Male</td>\n",
              "      <td>0.351351</td>\n",
              "      <td>0.4</td>\n",
              "      <td>0.566170</td>\n",
              "      <td>0.333333</td>\n",
              "      <td>0</td>\n",
              "      <td>1</td>\n",
              "      <td>0.374680</td>\n",
              "      <td>0</td>\n",
              "      <td>0.163636</td>\n",
              "      <td>0.155340</td>\n",
              "    </tr>\n",
              "    <tr>\n",
              "      <th>9</th>\n",
              "      <td>0.668</td>\n",
              "      <td>France</td>\n",
              "      <td>Male</td>\n",
              "      <td>0.121622</td>\n",
              "      <td>0.2</td>\n",
              "      <td>0.536488</td>\n",
              "      <td>0.000000</td>\n",
              "      <td>1</td>\n",
              "      <td>1</td>\n",
              "      <td>0.358605</td>\n",
              "      <td>0</td>\n",
              "      <td>0.133333</td>\n",
              "      <td>0.487160</td>\n",
              "    </tr>\n",
              "  </tbody>\n",
              "</table>\n",
              "</div>"
            ],
            "text/plain": [
              "   CreditScore Geography  Gender  ...  Exited  TenureByAge  CreditScoreByAge\n",
              "0        0.538    France  Female  ...       1     0.085714          0.235083\n",
              "1        0.516     Spain  Female  ...       0     0.043902          0.237252\n",
              "2        0.304    France  Female  ...       1     0.342857          0.168807\n",
              "3        0.698    France  Female  ...       0     0.046154          0.310859\n",
              "4        1.000     Spain  Female  ...       0     0.083721          0.354739\n",
              "5        0.590     Spain    Male  ...       1     0.327273          0.233203\n",
              "6        0.944    France    Male  ...       0     0.252000          0.275574\n",
              "7        0.052   Germany  Female  ...       1     0.248276          0.192911\n",
              "8        0.302    France    Male  ...       0     0.163636          0.155340\n",
              "9        0.668    France    Male  ...       0     0.133333          0.487160\n",
              "\n",
              "[10 rows x 13 columns]"
            ]
          },
          "metadata": {
            "tags": []
          },
          "execution_count": 11
        }
      ]
    },
    {
      "cell_type": "markdown",
      "metadata": {
        "id": "LqQESaE7aJ7P"
      },
      "source": [
        "# NOW LETS ENCODE THE CATEGORICAL VARIABLES"
      ]
    },
    {
      "cell_type": "markdown",
      "metadata": {
        "id": "No7t2J2daWaF"
      },
      "source": [
        "here since Geography and Gender  will not have a relationship between their categories , so it will be optimal to onehot encode them so the model dosent interprit some relationship amoung them"
      ]
    },
    {
      "cell_type": "code",
      "metadata": {
        "colab": {
          "base_uri": "https://localhost:8080/",
          "height": 419
        },
        "id": "U33CqRalZ3s-",
        "outputId": "a2f28981-1b4f-4349-e65b-c7bfe483fcbc"
      },
      "source": [
        "categorical_columns = ['Geography', 'Gender']\r\n",
        "\r\n",
        "encoder = OneHotEncoder()\r\n",
        "for column in categorical_columns:\r\n",
        "  bank_df=pd.concat([bank_df,pd.get_dummies(bank_df[column],prefix=column)],axis=1).drop([column],axis=1)\r\n",
        "\r\n",
        "bank_df"
      ],
      "execution_count": 12,
      "outputs": [
        {
          "output_type": "execute_result",
          "data": {
            "text/html": [
              "<div>\n",
              "<style scoped>\n",
              "    .dataframe tbody tr th:only-of-type {\n",
              "        vertical-align: middle;\n",
              "    }\n",
              "\n",
              "    .dataframe tbody tr th {\n",
              "        vertical-align: top;\n",
              "    }\n",
              "\n",
              "    .dataframe thead th {\n",
              "        text-align: right;\n",
              "    }\n",
              "</style>\n",
              "<table border=\"1\" class=\"dataframe\">\n",
              "  <thead>\n",
              "    <tr style=\"text-align: right;\">\n",
              "      <th></th>\n",
              "      <th>CreditScore</th>\n",
              "      <th>Age</th>\n",
              "      <th>Tenure</th>\n",
              "      <th>Balance</th>\n",
              "      <th>NumOfProducts</th>\n",
              "      <th>HasCrCard</th>\n",
              "      <th>IsActiveMember</th>\n",
              "      <th>EstimatedSalary</th>\n",
              "      <th>Exited</th>\n",
              "      <th>TenureByAge</th>\n",
              "      <th>CreditScoreByAge</th>\n",
              "      <th>Geography_France</th>\n",
              "      <th>Geography_Germany</th>\n",
              "      <th>Geography_Spain</th>\n",
              "      <th>Gender_Female</th>\n",
              "      <th>Gender_Male</th>\n",
              "    </tr>\n",
              "  </thead>\n",
              "  <tbody>\n",
              "    <tr>\n",
              "      <th>0</th>\n",
              "      <td>0.538</td>\n",
              "      <td>0.324324</td>\n",
              "      <td>0.2</td>\n",
              "      <td>0.000000</td>\n",
              "      <td>0.000000</td>\n",
              "      <td>1</td>\n",
              "      <td>1</td>\n",
              "      <td>0.506735</td>\n",
              "      <td>1</td>\n",
              "      <td>0.085714</td>\n",
              "      <td>0.235083</td>\n",
              "      <td>1</td>\n",
              "      <td>0</td>\n",
              "      <td>0</td>\n",
              "      <td>1</td>\n",
              "      <td>0</td>\n",
              "    </tr>\n",
              "    <tr>\n",
              "      <th>1</th>\n",
              "      <td>0.516</td>\n",
              "      <td>0.310811</td>\n",
              "      <td>0.1</td>\n",
              "      <td>0.334031</td>\n",
              "      <td>0.000000</td>\n",
              "      <td>0</td>\n",
              "      <td>1</td>\n",
              "      <td>0.562709</td>\n",
              "      <td>0</td>\n",
              "      <td>0.043902</td>\n",
              "      <td>0.237252</td>\n",
              "      <td>0</td>\n",
              "      <td>0</td>\n",
              "      <td>1</td>\n",
              "      <td>1</td>\n",
              "      <td>0</td>\n",
              "    </tr>\n",
              "    <tr>\n",
              "      <th>2</th>\n",
              "      <td>0.304</td>\n",
              "      <td>0.324324</td>\n",
              "      <td>0.8</td>\n",
              "      <td>0.636357</td>\n",
              "      <td>0.666667</td>\n",
              "      <td>1</td>\n",
              "      <td>0</td>\n",
              "      <td>0.569654</td>\n",
              "      <td>1</td>\n",
              "      <td>0.342857</td>\n",
              "      <td>0.168807</td>\n",
              "      <td>1</td>\n",
              "      <td>0</td>\n",
              "      <td>0</td>\n",
              "      <td>1</td>\n",
              "      <td>0</td>\n",
              "    </tr>\n",
              "    <tr>\n",
              "      <th>3</th>\n",
              "      <td>0.698</td>\n",
              "      <td>0.283784</td>\n",
              "      <td>0.1</td>\n",
              "      <td>0.000000</td>\n",
              "      <td>0.333333</td>\n",
              "      <td>0</td>\n",
              "      <td>0</td>\n",
              "      <td>0.469120</td>\n",
              "      <td>0</td>\n",
              "      <td>0.046154</td>\n",
              "      <td>0.310859</td>\n",
              "      <td>1</td>\n",
              "      <td>0</td>\n",
              "      <td>0</td>\n",
              "      <td>1</td>\n",
              "      <td>0</td>\n",
              "    </tr>\n",
              "    <tr>\n",
              "      <th>4</th>\n",
              "      <td>1.000</td>\n",
              "      <td>0.337838</td>\n",
              "      <td>0.2</td>\n",
              "      <td>0.500246</td>\n",
              "      <td>0.000000</td>\n",
              "      <td>1</td>\n",
              "      <td>1</td>\n",
              "      <td>0.395400</td>\n",
              "      <td>0</td>\n",
              "      <td>0.083721</td>\n",
              "      <td>0.354739</td>\n",
              "      <td>0</td>\n",
              "      <td>0</td>\n",
              "      <td>1</td>\n",
              "      <td>1</td>\n",
              "      <td>0</td>\n",
              "    </tr>\n",
              "    <tr>\n",
              "      <th>...</th>\n",
              "      <td>...</td>\n",
              "      <td>...</td>\n",
              "      <td>...</td>\n",
              "      <td>...</td>\n",
              "      <td>...</td>\n",
              "      <td>...</td>\n",
              "      <td>...</td>\n",
              "      <td>...</td>\n",
              "      <td>...</td>\n",
              "      <td>...</td>\n",
              "      <td>...</td>\n",
              "      <td>...</td>\n",
              "      <td>...</td>\n",
              "      <td>...</td>\n",
              "      <td>...</td>\n",
              "      <td>...</td>\n",
              "    </tr>\n",
              "    <tr>\n",
              "      <th>9995</th>\n",
              "      <td>0.842</td>\n",
              "      <td>0.283784</td>\n",
              "      <td>0.5</td>\n",
              "      <td>0.000000</td>\n",
              "      <td>0.333333</td>\n",
              "      <td>1</td>\n",
              "      <td>0</td>\n",
              "      <td>0.481341</td>\n",
              "      <td>0</td>\n",
              "      <td>0.230769</td>\n",
              "      <td>0.354782</td>\n",
              "      <td>1</td>\n",
              "      <td>0</td>\n",
              "      <td>0</td>\n",
              "      <td>0</td>\n",
              "      <td>1</td>\n",
              "    </tr>\n",
              "    <tr>\n",
              "      <th>9996</th>\n",
              "      <td>0.332</td>\n",
              "      <td>0.229730</td>\n",
              "      <td>1.0</td>\n",
              "      <td>0.228657</td>\n",
              "      <td>0.000000</td>\n",
              "      <td>1</td>\n",
              "      <td>1</td>\n",
              "      <td>0.508490</td>\n",
              "      <td>0</td>\n",
              "      <td>0.514286</td>\n",
              "      <td>0.235196</td>\n",
              "      <td>1</td>\n",
              "      <td>0</td>\n",
              "      <td>0</td>\n",
              "      <td>0</td>\n",
              "      <td>1</td>\n",
              "    </tr>\n",
              "    <tr>\n",
              "      <th>9997</th>\n",
              "      <td>0.718</td>\n",
              "      <td>0.243243</td>\n",
              "      <td>0.7</td>\n",
              "      <td>0.000000</td>\n",
              "      <td>0.000000</td>\n",
              "      <td>0</td>\n",
              "      <td>1</td>\n",
              "      <td>0.210390</td>\n",
              "      <td>1</td>\n",
              "      <td>0.350000</td>\n",
              "      <td>0.353002</td>\n",
              "      <td>1</td>\n",
              "      <td>0</td>\n",
              "      <td>0</td>\n",
              "      <td>1</td>\n",
              "      <td>0</td>\n",
              "    </tr>\n",
              "    <tr>\n",
              "      <th>9998</th>\n",
              "      <td>0.844</td>\n",
              "      <td>0.324324</td>\n",
              "      <td>0.3</td>\n",
              "      <td>0.299226</td>\n",
              "      <td>0.333333</td>\n",
              "      <td>1</td>\n",
              "      <td>0</td>\n",
              "      <td>0.464429</td>\n",
              "      <td>1</td>\n",
              "      <td>0.128571</td>\n",
              "      <td>0.321752</td>\n",
              "      <td>0</td>\n",
              "      <td>1</td>\n",
              "      <td>0</td>\n",
              "      <td>0</td>\n",
              "      <td>1</td>\n",
              "    </tr>\n",
              "    <tr>\n",
              "      <th>9999</th>\n",
              "      <td>0.884</td>\n",
              "      <td>0.135135</td>\n",
              "      <td>0.4</td>\n",
              "      <td>0.518708</td>\n",
              "      <td>0.000000</td>\n",
              "      <td>1</td>\n",
              "      <td>0</td>\n",
              "      <td>0.190914</td>\n",
              "      <td>0</td>\n",
              "      <td>0.257143</td>\n",
              "      <td>0.557402</td>\n",
              "      <td>1</td>\n",
              "      <td>0</td>\n",
              "      <td>0</td>\n",
              "      <td>1</td>\n",
              "      <td>0</td>\n",
              "    </tr>\n",
              "  </tbody>\n",
              "</table>\n",
              "<p>10000 rows × 16 columns</p>\n",
              "</div>"
            ],
            "text/plain": [
              "      CreditScore       Age  ...  Gender_Female  Gender_Male\n",
              "0           0.538  0.324324  ...              1            0\n",
              "1           0.516  0.310811  ...              1            0\n",
              "2           0.304  0.324324  ...              1            0\n",
              "3           0.698  0.283784  ...              1            0\n",
              "4           1.000  0.337838  ...              1            0\n",
              "...           ...       ...  ...            ...          ...\n",
              "9995        0.842  0.283784  ...              0            1\n",
              "9996        0.332  0.229730  ...              0            1\n",
              "9997        0.718  0.243243  ...              1            0\n",
              "9998        0.844  0.324324  ...              0            1\n",
              "9999        0.884  0.135135  ...              1            0\n",
              "\n",
              "[10000 rows x 16 columns]"
            ]
          },
          "metadata": {
            "tags": []
          },
          "execution_count": 12
        }
      ]
    },
    {
      "cell_type": "markdown",
      "metadata": {
        "id": "mHtMJWTLblyR"
      },
      "source": []
    },
    {
      "cell_type": "code",
      "metadata": {
        "colab": {
          "base_uri": "https://localhost:8080/"
        },
        "id": "LNiynl8ZdXfc",
        "outputId": "6910750e-79d2-4f9f-b334-9140a3051cc1"
      },
      "source": [
        "bank_df.columns"
      ],
      "execution_count": 13,
      "outputs": [
        {
          "output_type": "execute_result",
          "data": {
            "text/plain": [
              "Index(['CreditScore', 'Age', 'Tenure', 'Balance', 'NumOfProducts', 'HasCrCard',\n",
              "       'IsActiveMember', 'EstimatedSalary', 'Exited', 'TenureByAge',\n",
              "       'CreditScoreByAge', 'Geography_France', 'Geography_Germany',\n",
              "       'Geography_Spain', 'Gender_Female', 'Gender_Male'],\n",
              "      dtype='object')"
            ]
          },
          "metadata": {
            "tags": []
          },
          "execution_count": 13
        }
      ]
    },
    {
      "cell_type": "markdown",
      "metadata": {
        "id": "EqaSDAIyc5uH"
      },
      "source": [
        "#Split the dataset"
      ]
    },
    {
      "cell_type": "code",
      "metadata": {
        "id": "Rz2OdSs_c9dr"
      },
      "source": [
        "from sklearn.model_selection import train_test_split\r\n",
        "\r\n",
        "independant_coluumn_names = ['CreditScore', 'Age', 'Tenure', 'Balance', \r\n",
        "                             'NumOfProducts', 'HasCrCard','IsActiveMember', \r\n",
        "                             'EstimatedSalary', 'TenureByAge','CreditScoreByAge', \r\n",
        "                             'Geography_France', 'Geography_Germany',\r\n",
        "                             'Geography_Spain', 'Gender_Female', 'Gender_Male']\r\n",
        "dependant_column_names = ['Exited']\r\n",
        "\r\n",
        "X=bank_df[independant_coluumn_names]\r\n",
        "Y=bank_df[dependant_column_names]\r\n",
        "\r\n",
        "x_train, x_test, y_train, y_test = train_test_split(X, Y,test_size=0.20,random_state=42)"
      ],
      "execution_count": 14,
      "outputs": []
    },
    {
      "cell_type": "markdown",
      "metadata": {
        "id": "SVDSeswEuTpu"
      },
      "source": [
        "## Lets create a variable to store accuracy of each model we fit"
      ]
    },
    {
      "cell_type": "code",
      "metadata": {
        "id": "VbtrJyQWuTfU"
      },
      "source": [
        "accuracy_models = pd.DataFrame(columns=[\"Model\" , \"Accuracy Score\"])"
      ],
      "execution_count": 15,
      "outputs": []
    },
    {
      "cell_type": "markdown",
      "metadata": {
        "id": "6EKLX1UMx5tf"
      },
      "source": [
        "# Metric import"
      ]
    },
    {
      "cell_type": "code",
      "metadata": {
        "id": "kxTEuhjBx3pV"
      },
      "source": [
        "from sklearn.metrics import accuracy_score\r\n",
        "from sklearn.metrics import confusion_matrix \r\n",
        "from sklearn.metrics import classification_report\r\n"
      ],
      "execution_count": 16,
      "outputs": []
    },
    {
      "cell_type": "markdown",
      "metadata": {
        "id": "svcrp43ix3hU"
      },
      "source": []
    },
    {
      "cell_type": "markdown",
      "metadata": {
        "id": "jlA9NkPVeWy9"
      },
      "source": [
        "# Logistic Regression"
      ]
    },
    {
      "cell_type": "code",
      "metadata": {
        "colab": {
          "base_uri": "https://localhost:8080/"
        },
        "id": "vK1PXawGdFK-",
        "outputId": "c8e1c730-700b-44be-e34f-65b1b8dabc8e"
      },
      "source": [
        "# fit the logistic regression model\r\n",
        "from sklearn.linear_model import LogisticRegression \r\n",
        "logistic_model = LogisticRegression() \r\n",
        "logistic_model.fit(x_train, y_train)"
      ],
      "execution_count": 17,
      "outputs": [
        {
          "output_type": "stream",
          "text": [
            "/usr/local/lib/python3.7/dist-packages/sklearn/utils/validation.py:760: DataConversionWarning: A column-vector y was passed when a 1d array was expected. Please change the shape of y to (n_samples, ), for example using ravel().\n",
            "  y = column_or_1d(y, warn=True)\n"
          ],
          "name": "stderr"
        },
        {
          "output_type": "execute_result",
          "data": {
            "text/plain": [
              "LogisticRegression(C=1.0, class_weight=None, dual=False, fit_intercept=True,\n",
              "                   intercept_scaling=1, l1_ratio=None, max_iter=100,\n",
              "                   multi_class='auto', n_jobs=None, penalty='l2',\n",
              "                   random_state=None, solver='lbfgs', tol=0.0001, verbose=0,\n",
              "                   warm_start=False)"
            ]
          },
          "metadata": {
            "tags": []
          },
          "execution_count": 17
        }
      ]
    },
    {
      "cell_type": "code",
      "metadata": {
        "colab": {
          "base_uri": "https://localhost:8080/"
        },
        "id": "JU90_Nl5eghO",
        "outputId": "2bc45b69-593f-4afc-9141-0bf32d6bdecb"
      },
      "source": [
        "# predict using logistic model\r\n",
        "\r\n",
        "y_pred_logistic = logistic_model.predict(x_test) \r\n",
        "len(y_pred_logistic)"
      ],
      "execution_count": 18,
      "outputs": [
        {
          "output_type": "execute_result",
          "data": {
            "text/plain": [
              "2000"
            ]
          },
          "metadata": {
            "tags": []
          },
          "execution_count": 18
        }
      ]
    },
    {
      "cell_type": "code",
      "metadata": {
        "colab": {
          "base_uri": "https://localhost:8080/"
        },
        "id": "ZO_NNGfdffrR",
        "outputId": "521efd99-bc63-4d7f-c4d1-d54df033752f"
      },
      "source": [
        "#lets see the accuracy of the model\r\n",
        "\r\n",
        "print(f\"\\nLogistic Classification Model \\nACCURACY SCORE  :  {accuracy_score(y_test,y_pred_logistic)}\")"
      ],
      "execution_count": 19,
      "outputs": [
        {
          "output_type": "stream",
          "text": [
            "\n",
            "Logistic Classification Model \n",
            "ACCURACY SCORE  :  0.815\n"
          ],
          "name": "stdout"
        }
      ]
    },
    {
      "cell_type": "code",
      "metadata": {
        "id": "fbojheFmwEkJ"
      },
      "source": [
        "accuracy_models=accuracy_models.append({\"Model\" : \"Logistic Regression \" , \r\n",
        "                        \"Accuracy Score\" : accuracy_score(y_test,y_pred_logistic)}\r\n",
        "                       ,ignore_index=True)"
      ],
      "execution_count": 20,
      "outputs": []
    },
    {
      "cell_type": "code",
      "metadata": {
        "colab": {
          "base_uri": "https://localhost:8080/"
        },
        "id": "TQ4P5ogEf1a0",
        "outputId": "4731437c-5127-4236-8562-29fca59f7e78"
      },
      "source": [
        "#LETS PRINT THE CONFUSION MATRIX OF THE MODEL\r\n",
        "\r\n",
        "print(f\"\\nLogistic Classification Model \\nConfusion Matrix :\") \r\n",
        "print(confusion_matrix(y_test, y_pred_logistic))\r\n"
      ],
      "execution_count": 21,
      "outputs": [
        {
          "output_type": "stream",
          "text": [
            "\n",
            "Logistic Classification Model \n",
            "Confusion Matrix :\n",
            "[[1548   59]\n",
            " [ 311   82]]\n"
          ],
          "name": "stdout"
        }
      ]
    },
    {
      "cell_type": "code",
      "metadata": {
        "colab": {
          "base_uri": "https://localhost:8080/"
        },
        "id": "CZn_mA2Bepe2",
        "outputId": "8e4e69e6-cc29-4e27-97b5-c975bf424caa"
      },
      "source": [
        "#lets print the classification report of the logistic model\r\n",
        "\r\n",
        "print(classification_report(y_test, y_pred_logistic))\r\n"
      ],
      "execution_count": 22,
      "outputs": [
        {
          "output_type": "stream",
          "text": [
            "              precision    recall  f1-score   support\n",
            "\n",
            "           0       0.83      0.96      0.89      1607\n",
            "           1       0.58      0.21      0.31       393\n",
            "\n",
            "    accuracy                           0.81      2000\n",
            "   macro avg       0.71      0.59      0.60      2000\n",
            "weighted avg       0.78      0.81      0.78      2000\n",
            "\n"
          ],
          "name": "stdout"
        }
      ]
    },
    {
      "cell_type": "code",
      "metadata": {
        "colab": {
          "base_uri": "https://localhost:8080/",
          "height": 80
        },
        "id": "5bxD5hDT2UvW",
        "outputId": "01319129-089d-4f63-d62a-21dde7264e1f"
      },
      "source": [
        "#print accuracy of all models tested till now\r\n",
        "accuracy_models"
      ],
      "execution_count": 23,
      "outputs": [
        {
          "output_type": "execute_result",
          "data": {
            "text/html": [
              "<div>\n",
              "<style scoped>\n",
              "    .dataframe tbody tr th:only-of-type {\n",
              "        vertical-align: middle;\n",
              "    }\n",
              "\n",
              "    .dataframe tbody tr th {\n",
              "        vertical-align: top;\n",
              "    }\n",
              "\n",
              "    .dataframe thead th {\n",
              "        text-align: right;\n",
              "    }\n",
              "</style>\n",
              "<table border=\"1\" class=\"dataframe\">\n",
              "  <thead>\n",
              "    <tr style=\"text-align: right;\">\n",
              "      <th></th>\n",
              "      <th>Model</th>\n",
              "      <th>Accuracy Score</th>\n",
              "    </tr>\n",
              "  </thead>\n",
              "  <tbody>\n",
              "    <tr>\n",
              "      <th>0</th>\n",
              "      <td>Logistic Regression</td>\n",
              "      <td>0.815</td>\n",
              "    </tr>\n",
              "  </tbody>\n",
              "</table>\n",
              "</div>"
            ],
            "text/plain": [
              "                  Model  Accuracy Score\n",
              "0  Logistic Regression            0.815"
            ]
          },
          "metadata": {
            "tags": []
          },
          "execution_count": 23
        }
      ]
    },
    {
      "cell_type": "markdown",
      "metadata": {
        "id": "yBLwCfWmgZUh"
      },
      "source": [
        "#LETS TRY OUT DECISION TREE CLASSIFIER "
      ]
    },
    {
      "cell_type": "code",
      "metadata": {
        "colab": {
          "base_uri": "https://localhost:8080/"
        },
        "id": "Gb4UQKhBfPgh",
        "outputId": "0f4ac8e0-adec-4cee-dd58-4db1f43be473"
      },
      "source": [
        "from sklearn.tree import DecisionTreeClassifier\r\n",
        "\r\n",
        "decisiontree_model=DecisionTreeClassifier(criterion = 'entropy', splitter = 'best',\r\n",
        "                                          random_state=42)\r\n",
        "decisiontree_model.fit(x_train,y_train)"
      ],
      "execution_count": 24,
      "outputs": [
        {
          "output_type": "execute_result",
          "data": {
            "text/plain": [
              "DecisionTreeClassifier(ccp_alpha=0.0, class_weight=None, criterion='entropy',\n",
              "                       max_depth=None, max_features=None, max_leaf_nodes=None,\n",
              "                       min_impurity_decrease=0.0, min_impurity_split=None,\n",
              "                       min_samples_leaf=1, min_samples_split=2,\n",
              "                       min_weight_fraction_leaf=0.0, presort='deprecated',\n",
              "                       random_state=42, splitter='best')"
            ]
          },
          "metadata": {
            "tags": []
          },
          "execution_count": 24
        }
      ]
    },
    {
      "cell_type": "code",
      "metadata": {
        "colab": {
          "base_uri": "https://localhost:8080/"
        },
        "id": "3e2bTf_pg9PK",
        "outputId": "5ec5b431-a31f-4876-b349-63f4accb5f04"
      },
      "source": [
        "# predict using Decision tree model\r\n",
        "\r\n",
        "y_pred_decisiontree = decisiontree_model.predict(x_test) \r\n",
        "len(y_pred_decisiontree)"
      ],
      "execution_count": 25,
      "outputs": [
        {
          "output_type": "execute_result",
          "data": {
            "text/plain": [
              "2000"
            ]
          },
          "metadata": {
            "tags": []
          },
          "execution_count": 25
        }
      ]
    },
    {
      "cell_type": "code",
      "metadata": {
        "colab": {
          "base_uri": "https://localhost:8080/"
        },
        "id": "cvEs_cu8hLfT",
        "outputId": "9f924693-acea-4a7c-8a22-21f61ec42947"
      },
      "source": [
        "#lets see the accuracy of the Decision Tree model\r\n",
        "\r\n",
        "print(f\"\\nDecision Tree  Model \\nACCURACY SCORE  :  {accuracy_score(y_test,y_pred_decisiontree)}\")\r\n"
      ],
      "execution_count": 26,
      "outputs": [
        {
          "output_type": "stream",
          "text": [
            "\n",
            "Decision Tree  Model \n",
            "ACCURACY SCORE  :  0.796\n"
          ],
          "name": "stdout"
        }
      ]
    },
    {
      "cell_type": "code",
      "metadata": {
        "id": "kQBkB8FAvLQh"
      },
      "source": [
        "accuracy_models=accuracy_models.append({\"Model\" : \"Decision Tree\" , \r\n",
        "                        \"Accuracy Score\" : accuracy_score(y_test,y_pred_decisiontree)}\r\n",
        "                       ,ignore_index=True)"
      ],
      "execution_count": 27,
      "outputs": []
    },
    {
      "cell_type": "code",
      "metadata": {
        "colab": {
          "base_uri": "https://localhost:8080/"
        },
        "id": "m0_l35rPhZAn",
        "outputId": "f2720434-7720-4585-da63-f4a67e294096"
      },
      "source": [
        "#LETS PRINT THE CONFUSION MATRIX OF THE Decision Tree MODEL\r\n",
        "\r\n",
        "print(f\"\\nDecision Tree Model \\nConfusion Matrix :\") \r\n",
        "print(confusion_matrix(y_test, y_pred_decisiontree))\r\n"
      ],
      "execution_count": 28,
      "outputs": [
        {
          "output_type": "stream",
          "text": [
            "\n",
            "Decision Tree Model \n",
            "Confusion Matrix :\n",
            "[[1395  212]\n",
            " [ 196  197]]\n"
          ],
          "name": "stdout"
        }
      ]
    },
    {
      "cell_type": "code",
      "metadata": {
        "colab": {
          "base_uri": "https://localhost:8080/"
        },
        "id": "sFwsoJ0QhoLV",
        "outputId": "ca8131d4-842e-4d65-9766-b604e2630a97"
      },
      "source": [
        "#lets print the classification report of the Decision Tree  model\r\n",
        "print(\"CLASSIFICATION REPORT - DECISION TREE MODEL\\n\")\r\n",
        "print(classification_report(y_test, y_pred_decisiontree))\r\n"
      ],
      "execution_count": 29,
      "outputs": [
        {
          "output_type": "stream",
          "text": [
            "CLASSIFICATION REPORT - DECISION TREE MODEL\n",
            "\n",
            "              precision    recall  f1-score   support\n",
            "\n",
            "           0       0.88      0.87      0.87      1607\n",
            "           1       0.48      0.50      0.49       393\n",
            "\n",
            "    accuracy                           0.80      2000\n",
            "   macro avg       0.68      0.68      0.68      2000\n",
            "weighted avg       0.80      0.80      0.80      2000\n",
            "\n"
          ],
          "name": "stdout"
        }
      ]
    },
    {
      "cell_type": "code",
      "metadata": {
        "colab": {
          "base_uri": "https://localhost:8080/",
          "height": 111
        },
        "id": "-64xEV7q2Tsl",
        "outputId": "0f569368-c501-4859-bd38-c25d7230f939"
      },
      "source": [
        "#print accuracy of all models tested till now\r\n",
        "accuracy_models"
      ],
      "execution_count": 30,
      "outputs": [
        {
          "output_type": "execute_result",
          "data": {
            "text/html": [
              "<div>\n",
              "<style scoped>\n",
              "    .dataframe tbody tr th:only-of-type {\n",
              "        vertical-align: middle;\n",
              "    }\n",
              "\n",
              "    .dataframe tbody tr th {\n",
              "        vertical-align: top;\n",
              "    }\n",
              "\n",
              "    .dataframe thead th {\n",
              "        text-align: right;\n",
              "    }\n",
              "</style>\n",
              "<table border=\"1\" class=\"dataframe\">\n",
              "  <thead>\n",
              "    <tr style=\"text-align: right;\">\n",
              "      <th></th>\n",
              "      <th>Model</th>\n",
              "      <th>Accuracy Score</th>\n",
              "    </tr>\n",
              "  </thead>\n",
              "  <tbody>\n",
              "    <tr>\n",
              "      <th>0</th>\n",
              "      <td>Logistic Regression</td>\n",
              "      <td>0.815</td>\n",
              "    </tr>\n",
              "    <tr>\n",
              "      <th>1</th>\n",
              "      <td>Decision Tree</td>\n",
              "      <td>0.796</td>\n",
              "    </tr>\n",
              "  </tbody>\n",
              "</table>\n",
              "</div>"
            ],
            "text/plain": [
              "                  Model  Accuracy Score\n",
              "0  Logistic Regression            0.815\n",
              "1         Decision Tree           0.796"
            ]
          },
          "metadata": {
            "tags": []
          },
          "execution_count": 30
        }
      ]
    },
    {
      "cell_type": "markdown",
      "metadata": {
        "id": "ZlovKBVsh9aU"
      },
      "source": [
        "# LETS TRY OUT RANDOM FOREST CLASSIFIER MODEL "
      ]
    },
    {
      "cell_type": "code",
      "metadata": {
        "colab": {
          "base_uri": "https://localhost:8080/"
        },
        "id": "QwAUBCVsh4aG",
        "outputId": "fca5e96a-1b3d-4dc7-91ac-d9a1fe4c7359"
      },
      "source": [
        "from sklearn.ensemble import RandomForestClassifier\r\n",
        "\r\n",
        "randomforest_model = RandomForestClassifier(n_estimators=100 , criterion = 'entropy',\r\n",
        "                                      random_state = 42)\r\n",
        "\r\n",
        "randomforest_model.fit(x_train,y_train)"
      ],
      "execution_count": 31,
      "outputs": [
        {
          "output_type": "stream",
          "text": [
            "/usr/local/lib/python3.7/dist-packages/ipykernel_launcher.py:6: DataConversionWarning: A column-vector y was passed when a 1d array was expected. Please change the shape of y to (n_samples,), for example using ravel().\n",
            "  \n"
          ],
          "name": "stderr"
        },
        {
          "output_type": "execute_result",
          "data": {
            "text/plain": [
              "RandomForestClassifier(bootstrap=True, ccp_alpha=0.0, class_weight=None,\n",
              "                       criterion='entropy', max_depth=None, max_features='auto',\n",
              "                       max_leaf_nodes=None, max_samples=None,\n",
              "                       min_impurity_decrease=0.0, min_impurity_split=None,\n",
              "                       min_samples_leaf=1, min_samples_split=2,\n",
              "                       min_weight_fraction_leaf=0.0, n_estimators=100,\n",
              "                       n_jobs=None, oob_score=False, random_state=42, verbose=0,\n",
              "                       warm_start=False)"
            ]
          },
          "metadata": {
            "tags": []
          },
          "execution_count": 31
        }
      ]
    },
    {
      "cell_type": "code",
      "metadata": {
        "colab": {
          "base_uri": "https://localhost:8080/"
        },
        "id": "Zk85Md-kia0b",
        "outputId": "2ac5c04c-e933-47e2-af65-faccf0ff0bd2"
      },
      "source": [
        "# predict using Random Forest model\r\n",
        "\r\n",
        "y_pred_rendomforest = randomforest_model.predict(x_test) \r\n",
        "len(y_pred_rendomforest)"
      ],
      "execution_count": 32,
      "outputs": [
        {
          "output_type": "execute_result",
          "data": {
            "text/plain": [
              "2000"
            ]
          },
          "metadata": {
            "tags": []
          },
          "execution_count": 32
        }
      ]
    },
    {
      "cell_type": "code",
      "metadata": {
        "colab": {
          "base_uri": "https://localhost:8080/"
        },
        "id": "pSn1dZZyik_c",
        "outputId": "a50c845c-b1f6-4e4a-e71e-52b6c036c885"
      },
      "source": [
        "#lets see the accuracy of the Random Forest model\r\n",
        "\r\n",
        "print(f\"\\nRandom Forest  Model \\nACCURACY SCORE  :  {accuracy_score(y_test,y_pred_rendomforest)}\")"
      ],
      "execution_count": 33,
      "outputs": [
        {
          "output_type": "stream",
          "text": [
            "\n",
            "Random Forest  Model \n",
            "ACCURACY SCORE  :  0.861\n"
          ],
          "name": "stdout"
        }
      ]
    },
    {
      "cell_type": "code",
      "metadata": {
        "id": "2ykZvfrwvPK7"
      },
      "source": [
        "accuracy_models=accuracy_models.append({\"Model\" : \"Random Forest\" , \r\n",
        "                        \"Accuracy Score\" : accuracy_score(y_test,y_pred_rendomforest)}\r\n",
        "                       ,ignore_index=True)"
      ],
      "execution_count": 34,
      "outputs": []
    },
    {
      "cell_type": "code",
      "metadata": {
        "colab": {
          "base_uri": "https://localhost:8080/"
        },
        "id": "VKq6Yqn5iqdS",
        "outputId": "6e62f0bf-75a4-4b60-beb4-001a43d69895"
      },
      "source": [
        "#LETS PRINT THE CONFUSION MATRIX OF THE Random Forest MODEL\r\n",
        "\r\n",
        "print(f\"\\nRandom Forest Model \\nConfusion Matrix :\") \r\n",
        "print(confusion_matrix(y_test, y_pred_rendomforest))\r\n"
      ],
      "execution_count": 35,
      "outputs": [
        {
          "output_type": "stream",
          "text": [
            "\n",
            "Random Forest Model \n",
            "Confusion Matrix :\n",
            "[[1546   61]\n",
            " [ 217  176]]\n"
          ],
          "name": "stdout"
        }
      ]
    },
    {
      "cell_type": "code",
      "metadata": {
        "colab": {
          "base_uri": "https://localhost:8080/"
        },
        "id": "S5GijNu7iqIe",
        "outputId": "c713b923-79c0-45b2-d8a1-7086ff3ebb70"
      },
      "source": [
        "#lets print the classification report of the Random Forest  model\r\n",
        "\r\n",
        "print(\"CLASSIFICATION REPORT - RANDDOM FOREST  MODEL\\n\")\r\n",
        "print(classification_report(y_test, y_pred_rendomforest))\r\n"
      ],
      "execution_count": 36,
      "outputs": [
        {
          "output_type": "stream",
          "text": [
            "CLASSIFICATION REPORT - RANDDOM FOREST  MODEL\n",
            "\n",
            "              precision    recall  f1-score   support\n",
            "\n",
            "           0       0.88      0.96      0.92      1607\n",
            "           1       0.74      0.45      0.56       393\n",
            "\n",
            "    accuracy                           0.86      2000\n",
            "   macro avg       0.81      0.70      0.74      2000\n",
            "weighted avg       0.85      0.86      0.85      2000\n",
            "\n"
          ],
          "name": "stdout"
        }
      ]
    },
    {
      "cell_type": "code",
      "metadata": {
        "colab": {
          "base_uri": "https://localhost:8080/",
          "height": 142
        },
        "id": "8DiE12bz2S3j",
        "outputId": "440e9d5c-ee15-4948-822e-3aa81825ff2b"
      },
      "source": [
        "#print accuracy of all models tested till now\r\n",
        "accuracy_models"
      ],
      "execution_count": 37,
      "outputs": [
        {
          "output_type": "execute_result",
          "data": {
            "text/html": [
              "<div>\n",
              "<style scoped>\n",
              "    .dataframe tbody tr th:only-of-type {\n",
              "        vertical-align: middle;\n",
              "    }\n",
              "\n",
              "    .dataframe tbody tr th {\n",
              "        vertical-align: top;\n",
              "    }\n",
              "\n",
              "    .dataframe thead th {\n",
              "        text-align: right;\n",
              "    }\n",
              "</style>\n",
              "<table border=\"1\" class=\"dataframe\">\n",
              "  <thead>\n",
              "    <tr style=\"text-align: right;\">\n",
              "      <th></th>\n",
              "      <th>Model</th>\n",
              "      <th>Accuracy Score</th>\n",
              "    </tr>\n",
              "  </thead>\n",
              "  <tbody>\n",
              "    <tr>\n",
              "      <th>0</th>\n",
              "      <td>Logistic Regression</td>\n",
              "      <td>0.815</td>\n",
              "    </tr>\n",
              "    <tr>\n",
              "      <th>1</th>\n",
              "      <td>Decision Tree</td>\n",
              "      <td>0.796</td>\n",
              "    </tr>\n",
              "    <tr>\n",
              "      <th>2</th>\n",
              "      <td>Random Forest</td>\n",
              "      <td>0.861</td>\n",
              "    </tr>\n",
              "  </tbody>\n",
              "</table>\n",
              "</div>"
            ],
            "text/plain": [
              "                  Model  Accuracy Score\n",
              "0  Logistic Regression            0.815\n",
              "1         Decision Tree           0.796\n",
              "2         Random Forest           0.861"
            ]
          },
          "metadata": {
            "tags": []
          },
          "execution_count": 37
        }
      ]
    },
    {
      "cell_type": "markdown",
      "metadata": {
        "id": "ImNr89cC1WET"
      },
      "source": [
        "## K Neighbours Classifier MODEL"
      ]
    },
    {
      "cell_type": "code",
      "metadata": {
        "colab": {
          "base_uri": "https://localhost:8080/"
        },
        "id": "H5O5bGogwtYT",
        "outputId": "d2947725-57be-4e99-8943-45868e2f996b"
      },
      "source": [
        "from sklearn.neighbors import KNeighborsClassifier\r\n",
        "\r\n",
        "kneighbour_model = KNeighborsClassifier(n_neighbors=1)\r\n",
        "\r\n",
        "# Train the model using the training sets\r\n",
        "kneighbour_model.fit(x_train,y_train)\r\n",
        "\r\n",
        "#Predict Output\r\n",
        "y_pred_kneighbour= kneighbour_model.predict(x_test) \r\n",
        "print(len(y_pred_kneighbour))"
      ],
      "execution_count": 38,
      "outputs": [
        {
          "output_type": "stream",
          "text": [
            "2000\n"
          ],
          "name": "stdout"
        },
        {
          "output_type": "stream",
          "text": [
            "/usr/local/lib/python3.7/dist-packages/ipykernel_launcher.py:6: DataConversionWarning: A column-vector y was passed when a 1d array was expected. Please change the shape of y to (n_samples, ), for example using ravel().\n",
            "  \n"
          ],
          "name": "stderr"
        }
      ]
    },
    {
      "cell_type": "code",
      "metadata": {
        "colab": {
          "base_uri": "https://localhost:8080/"
        },
        "id": "4nx6I8kPxZBK",
        "outputId": "71601287-08ca-4a5f-ce74-d6ddc5294d19"
      },
      "source": [
        "#lets see the accuracy of the K Neighbour Classifier  model\r\n",
        "from sklearn.metrics import accuracy_score\r\n",
        "\r\n",
        "print(f\"\\nK Neighbour Classifier \\nACCURACY SCORE  :  {accuracy_score(y_test,y_pred_kneighbour)}\")"
      ],
      "execution_count": 39,
      "outputs": [
        {
          "output_type": "stream",
          "text": [
            "\n",
            "K Neighbour Classifier \n",
            "ACCURACY SCORE  :  0.7965\n"
          ],
          "name": "stdout"
        }
      ]
    },
    {
      "cell_type": "code",
      "metadata": {
        "id": "8YUH9Xqixl_o"
      },
      "source": [
        "accuracy_models=accuracy_models.append({\"Model\" : \"K Neighbour Classifier\" , \r\n",
        "                        \"Accuracy Score\" : accuracy_score(y_test,y_pred_kneighbour)}\r\n",
        "                       ,ignore_index=True)"
      ],
      "execution_count": 40,
      "outputs": []
    },
    {
      "cell_type": "code",
      "metadata": {
        "colab": {
          "base_uri": "https://localhost:8080/"
        },
        "id": "1ugv4MSfyTSs",
        "outputId": "4953d1e9-9438-4a20-be9a-562d3e91b491"
      },
      "source": [
        "#LETS PRINT THE CONFUSION MATRIX OF THE K Neighbour Classifier Model\r\n",
        "\r\n",
        "print(f\"\\nK Neighbour Classifier Model \\nConfusion Matrix :\") \r\n",
        "print(confusion_matrix(y_test, y_pred_kneighbour))\r\n"
      ],
      "execution_count": 41,
      "outputs": [
        {
          "output_type": "stream",
          "text": [
            "\n",
            "K Neighbour Classifier Model \n",
            "Confusion Matrix :\n",
            "[[1416  191]\n",
            " [ 216  177]]\n"
          ],
          "name": "stdout"
        }
      ]
    },
    {
      "cell_type": "code",
      "metadata": {
        "colab": {
          "base_uri": "https://localhost:8080/"
        },
        "id": "QNOmhTbPyZSP",
        "outputId": "af14db1a-4079-4871-b433-0f97ffb9a19a"
      },
      "source": [
        "#lets print the classification report of the K Neighbour Classifier Model\r\n",
        "\r\n",
        "print(\"CLASSIFICATION REPORT -  K Neighbour Classifier Model\\n\")\r\n",
        "print(classification_report(y_test, y_pred_kneighbour))\r\n"
      ],
      "execution_count": 42,
      "outputs": [
        {
          "output_type": "stream",
          "text": [
            "CLASSIFICATION REPORT -  K Neighbour Classifier Model\n",
            "\n",
            "              precision    recall  f1-score   support\n",
            "\n",
            "           0       0.87      0.88      0.87      1607\n",
            "           1       0.48      0.45      0.47       393\n",
            "\n",
            "    accuracy                           0.80      2000\n",
            "   macro avg       0.67      0.67      0.67      2000\n",
            "weighted avg       0.79      0.80      0.79      2000\n",
            "\n"
          ],
          "name": "stdout"
        }
      ]
    },
    {
      "cell_type": "code",
      "metadata": {
        "colab": {
          "base_uri": "https://localhost:8080/",
          "height": 173
        },
        "id": "5Qdad7Zi2R4R",
        "outputId": "32a1e8e2-4f70-474e-aaa4-75803111b6c7"
      },
      "source": [
        "#print accuracy of all models tested till now\r\n",
        "accuracy_models"
      ],
      "execution_count": 43,
      "outputs": [
        {
          "output_type": "execute_result",
          "data": {
            "text/html": [
              "<div>\n",
              "<style scoped>\n",
              "    .dataframe tbody tr th:only-of-type {\n",
              "        vertical-align: middle;\n",
              "    }\n",
              "\n",
              "    .dataframe tbody tr th {\n",
              "        vertical-align: top;\n",
              "    }\n",
              "\n",
              "    .dataframe thead th {\n",
              "        text-align: right;\n",
              "    }\n",
              "</style>\n",
              "<table border=\"1\" class=\"dataframe\">\n",
              "  <thead>\n",
              "    <tr style=\"text-align: right;\">\n",
              "      <th></th>\n",
              "      <th>Model</th>\n",
              "      <th>Accuracy Score</th>\n",
              "    </tr>\n",
              "  </thead>\n",
              "  <tbody>\n",
              "    <tr>\n",
              "      <th>0</th>\n",
              "      <td>Logistic Regression</td>\n",
              "      <td>0.8150</td>\n",
              "    </tr>\n",
              "    <tr>\n",
              "      <th>1</th>\n",
              "      <td>Decision Tree</td>\n",
              "      <td>0.7960</td>\n",
              "    </tr>\n",
              "    <tr>\n",
              "      <th>2</th>\n",
              "      <td>Random Forest</td>\n",
              "      <td>0.8610</td>\n",
              "    </tr>\n",
              "    <tr>\n",
              "      <th>3</th>\n",
              "      <td>K Neighbour Classifier</td>\n",
              "      <td>0.7965</td>\n",
              "    </tr>\n",
              "  </tbody>\n",
              "</table>\n",
              "</div>"
            ],
            "text/plain": [
              "                    Model  Accuracy Score\n",
              "0    Logistic Regression           0.8150\n",
              "1           Decision Tree          0.7960\n",
              "2           Random Forest          0.8610\n",
              "3  K Neighbour Classifier          0.7965"
            ]
          },
          "metadata": {
            "tags": []
          },
          "execution_count": 43
        }
      ]
    },
    {
      "cell_type": "markdown",
      "metadata": {
        "id": "7CoIWvXSi_By"
      },
      "source": [
        "# LETS TRY XGBOOST MODEL"
      ]
    },
    {
      "cell_type": "code",
      "metadata": {
        "colab": {
          "base_uri": "https://localhost:8080/"
        },
        "id": "XYjmDZPfjD7i",
        "outputId": "f2985f88-2c75-49c2-de69-ab4b870d661a"
      },
      "source": [
        "!pip install xgboost"
      ],
      "execution_count": 44,
      "outputs": [
        {
          "output_type": "stream",
          "text": [
            "Requirement already satisfied: xgboost in /usr/local/lib/python3.7/dist-packages (0.90)\n",
            "Requirement already satisfied: scipy in /usr/local/lib/python3.7/dist-packages (from xgboost) (1.4.1)\n",
            "Requirement already satisfied: numpy in /usr/local/lib/python3.7/dist-packages (from xgboost) (1.19.5)\n"
          ],
          "name": "stdout"
        }
      ]
    },
    {
      "cell_type": "code",
      "metadata": {
        "colab": {
          "base_uri": "https://localhost:8080/"
        },
        "id": "O-5oB6sDi2el",
        "outputId": "d1e3dc61-b2f4-4772-ae94-3bb5192e6d13"
      },
      "source": [
        "# LETS FIR XGBOOST CLASSIFIER MODEL \r\n",
        "\r\n",
        "from xgboost import XGBClassifier\r\n",
        "\r\n",
        "xgboost_model = XGBClassifier()\r\n",
        "xgboost_model.fit(x_train, y_train)"
      ],
      "execution_count": 45,
      "outputs": [
        {
          "output_type": "stream",
          "text": [
            "/usr/local/lib/python3.7/dist-packages/sklearn/preprocessing/_label.py:235: DataConversionWarning: A column-vector y was passed when a 1d array was expected. Please change the shape of y to (n_samples, ), for example using ravel().\n",
            "  y = column_or_1d(y, warn=True)\n",
            "/usr/local/lib/python3.7/dist-packages/sklearn/preprocessing/_label.py:268: DataConversionWarning: A column-vector y was passed when a 1d array was expected. Please change the shape of y to (n_samples, ), for example using ravel().\n",
            "  y = column_or_1d(y, warn=True)\n"
          ],
          "name": "stderr"
        },
        {
          "output_type": "execute_result",
          "data": {
            "text/plain": [
              "XGBClassifier(base_score=0.5, booster='gbtree', colsample_bylevel=1,\n",
              "              colsample_bynode=1, colsample_bytree=1, gamma=0,\n",
              "              learning_rate=0.1, max_delta_step=0, max_depth=3,\n",
              "              min_child_weight=1, missing=None, n_estimators=100, n_jobs=1,\n",
              "              nthread=None, objective='binary:logistic', random_state=0,\n",
              "              reg_alpha=0, reg_lambda=1, scale_pos_weight=1, seed=None,\n",
              "              silent=None, subsample=1, verbosity=1)"
            ]
          },
          "metadata": {
            "tags": []
          },
          "execution_count": 45
        }
      ]
    },
    {
      "cell_type": "code",
      "metadata": {
        "colab": {
          "base_uri": "https://localhost:8080/"
        },
        "id": "5VlOteMTjqJ9",
        "outputId": "bd54a75c-4762-4b0f-d442-c4741263c636"
      },
      "source": [
        "# predict using XGBOOST model\r\n",
        "\r\n",
        "y_pred_xgboost = xgboost_model.predict(x_test) \r\n",
        "len(y_pred_xgboost)"
      ],
      "execution_count": 46,
      "outputs": [
        {
          "output_type": "execute_result",
          "data": {
            "text/plain": [
              "2000"
            ]
          },
          "metadata": {
            "tags": []
          },
          "execution_count": 46
        }
      ]
    },
    {
      "cell_type": "code",
      "metadata": {
        "colab": {
          "base_uri": "https://localhost:8080/"
        },
        "id": "eAHBL5AFjivC",
        "outputId": "6448cfd8-484f-4423-b61a-0462c8e1cea2"
      },
      "source": [
        "#lets see the accuracy of the XGBOOST model\r\n",
        "\r\n",
        "print(f\"\\nXGBOOST Model \\nACCURACY SCORE  :  {accuracy_score(y_test,y_pred_xgboost)}\")"
      ],
      "execution_count": 47,
      "outputs": [
        {
          "output_type": "stream",
          "text": [
            "\n",
            "XGBOOST Model \n",
            "ACCURACY SCORE  :  0.869\n"
          ],
          "name": "stdout"
        }
      ]
    },
    {
      "cell_type": "code",
      "metadata": {
        "id": "1bItHZHpvYOq"
      },
      "source": [
        "accuracy_models=accuracy_models.append({\"Model\" : \"XGBOOST\" , \r\n",
        "                        \"Accuracy Score\" : accuracy_score(y_test,y_pred_xgboost)}\r\n",
        "                       ,ignore_index=True)"
      ],
      "execution_count": 48,
      "outputs": []
    },
    {
      "cell_type": "code",
      "metadata": {
        "colab": {
          "base_uri": "https://localhost:8080/"
        },
        "id": "tLtBLlZDj8lV",
        "outputId": "b8d7ee2c-e774-4067-db42-0c23be3332bc"
      },
      "source": [
        "#LETS PRINT THE CONFUSION MATRIX OF THE XGBOOST MODEL\r\n",
        "\r\n",
        "print(f\"\\nXGBOOST Model \\nConfusion Matrix :\") \r\n",
        "print(confusion_matrix(y_test, y_pred_xgboost))\r\n"
      ],
      "execution_count": 49,
      "outputs": [
        {
          "output_type": "stream",
          "text": [
            "\n",
            "XGBOOST Model \n",
            "Confusion Matrix :\n",
            "[[1548   59]\n",
            " [ 203  190]]\n"
          ],
          "name": "stdout"
        }
      ]
    },
    {
      "cell_type": "code",
      "metadata": {
        "colab": {
          "base_uri": "https://localhost:8080/"
        },
        "id": "U7JWzatqj8c7",
        "outputId": "a2112494-dbae-413b-de20-dd53fd38beb1"
      },
      "source": [
        "#lets print the classification report of the RXGBOOST  model\r\n",
        "\r\n",
        "print(\"CLASSIFICATION REPORT - XGBOOST  MODEL\\n\")\r\n",
        "print(classification_report(y_test, y_pred_xgboost))\r\n"
      ],
      "execution_count": 50,
      "outputs": [
        {
          "output_type": "stream",
          "text": [
            "CLASSIFICATION REPORT - XGBOOST  MODEL\n",
            "\n",
            "              precision    recall  f1-score   support\n",
            "\n",
            "           0       0.88      0.96      0.92      1607\n",
            "           1       0.76      0.48      0.59       393\n",
            "\n",
            "    accuracy                           0.87      2000\n",
            "   macro avg       0.82      0.72      0.76      2000\n",
            "weighted avg       0.86      0.87      0.86      2000\n",
            "\n"
          ],
          "name": "stdout"
        }
      ]
    },
    {
      "cell_type": "code",
      "metadata": {
        "colab": {
          "base_uri": "https://localhost:8080/",
          "height": 204
        },
        "id": "tpy_4JaK2Mwc",
        "outputId": "081b09a8-77a9-4245-847d-ad89138b653c"
      },
      "source": [
        "#print accuracy of all models tested till now\r\n",
        "accuracy_models"
      ],
      "execution_count": 51,
      "outputs": [
        {
          "output_type": "execute_result",
          "data": {
            "text/html": [
              "<div>\n",
              "<style scoped>\n",
              "    .dataframe tbody tr th:only-of-type {\n",
              "        vertical-align: middle;\n",
              "    }\n",
              "\n",
              "    .dataframe tbody tr th {\n",
              "        vertical-align: top;\n",
              "    }\n",
              "\n",
              "    .dataframe thead th {\n",
              "        text-align: right;\n",
              "    }\n",
              "</style>\n",
              "<table border=\"1\" class=\"dataframe\">\n",
              "  <thead>\n",
              "    <tr style=\"text-align: right;\">\n",
              "      <th></th>\n",
              "      <th>Model</th>\n",
              "      <th>Accuracy Score</th>\n",
              "    </tr>\n",
              "  </thead>\n",
              "  <tbody>\n",
              "    <tr>\n",
              "      <th>0</th>\n",
              "      <td>Logistic Regression</td>\n",
              "      <td>0.8150</td>\n",
              "    </tr>\n",
              "    <tr>\n",
              "      <th>1</th>\n",
              "      <td>Decision Tree</td>\n",
              "      <td>0.7960</td>\n",
              "    </tr>\n",
              "    <tr>\n",
              "      <th>2</th>\n",
              "      <td>Random Forest</td>\n",
              "      <td>0.8610</td>\n",
              "    </tr>\n",
              "    <tr>\n",
              "      <th>3</th>\n",
              "      <td>K Neighbour Classifier</td>\n",
              "      <td>0.7965</td>\n",
              "    </tr>\n",
              "    <tr>\n",
              "      <th>4</th>\n",
              "      <td>XGBOOST</td>\n",
              "      <td>0.8690</td>\n",
              "    </tr>\n",
              "  </tbody>\n",
              "</table>\n",
              "</div>"
            ],
            "text/plain": [
              "                    Model  Accuracy Score\n",
              "0    Logistic Regression           0.8150\n",
              "1           Decision Tree          0.7960\n",
              "2           Random Forest          0.8610\n",
              "3  K Neighbour Classifier          0.7965\n",
              "4                 XGBOOST          0.8690"
            ]
          },
          "metadata": {
            "tags": []
          },
          "execution_count": 51
        }
      ]
    },
    {
      "cell_type": "markdown",
      "metadata": {
        "id": "hEEmIimhmYgN"
      },
      "source": [
        "# Lets try to improve XGBOOST with Gridsearch and tune its hyperparameters"
      ]
    },
    {
      "cell_type": "code",
      "metadata": {
        "colab": {
          "base_uri": "https://localhost:8080/"
        },
        "id": "OdquHpKfklTg",
        "outputId": "71ccea17-3402-46fc-9597-909662d1815d"
      },
      "source": [
        "from sklearn.model_selection import KFold, GridSearchCV\r\n",
        "from sklearn.metrics import  make_scorer\r\n",
        "\r\n",
        "estimator = XGBClassifier(\r\n",
        "    objective= 'binary:logistic',\r\n",
        "    nthread=4,\r\n",
        "    seed=42\r\n",
        ")\r\n",
        "parameters = {\r\n",
        "    'max_depth': range (2, 10, 1),\r\n",
        "    'n_estimators': range(50, 301, 50),\r\n",
        "    'learning_rate': [0.01,0.1, 0.2, 0.3]\r\n",
        "}\r\n",
        "\r\n",
        "kfold = KFold(n_splits=10, random_state=42)\r\n",
        "\r\n",
        "grid_search = GridSearchCV(\r\n",
        "    estimator=estimator,\r\n",
        "    param_grid=parameters,\r\n",
        "    scoring = {'AUC':'roc_auc', 'Accuracy':make_scorer(accuracy_score)},\r\n",
        "    n_jobs = 10,\r\n",
        "    cv = kfold,\r\n",
        "    verbose=True,\r\n",
        "    refit='AUC'\r\n",
        ")\r\n",
        "grid_search.fit(X, Y)"
      ],
      "execution_count": 52,
      "outputs": [
        {
          "output_type": "stream",
          "text": [
            "Fitting 10 folds for each of 192 candidates, totalling 1920 fits\n"
          ],
          "name": "stdout"
        },
        {
          "output_type": "stream",
          "text": [
            "/usr/local/lib/python3.7/dist-packages/sklearn/model_selection/_split.py:296: FutureWarning: Setting a random_state has no effect since shuffle is False. This will raise an error in 0.24. You should leave random_state to its default (None), or set shuffle=True.\n",
            "  FutureWarning\n",
            "[Parallel(n_jobs=10)]: Using backend LokyBackend with 10 concurrent workers.\n",
            "[Parallel(n_jobs=10)]: Done  30 tasks      | elapsed:   22.9s\n",
            "[Parallel(n_jobs=10)]: Done 180 tasks      | elapsed:  3.2min\n",
            "[Parallel(n_jobs=10)]: Done 430 tasks      | elapsed: 12.8min\n",
            "[Parallel(n_jobs=10)]: Done 780 tasks      | elapsed: 22.7min\n",
            "[Parallel(n_jobs=10)]: Done 1230 tasks      | elapsed: 36.1min\n",
            "[Parallel(n_jobs=10)]: Done 1780 tasks      | elapsed: 53.1min\n",
            "[Parallel(n_jobs=10)]: Done 1920 out of 1920 | elapsed: 59.8min finished\n",
            "/usr/local/lib/python3.7/dist-packages/sklearn/preprocessing/_label.py:235: DataConversionWarning: A column-vector y was passed when a 1d array was expected. Please change the shape of y to (n_samples, ), for example using ravel().\n",
            "  y = column_or_1d(y, warn=True)\n",
            "/usr/local/lib/python3.7/dist-packages/sklearn/preprocessing/_label.py:268: DataConversionWarning: A column-vector y was passed when a 1d array was expected. Please change the shape of y to (n_samples, ), for example using ravel().\n",
            "  y = column_or_1d(y, warn=True)\n"
          ],
          "name": "stderr"
        },
        {
          "output_type": "execute_result",
          "data": {
            "text/plain": [
              "GridSearchCV(cv=KFold(n_splits=10, random_state=42, shuffle=False),\n",
              "             error_score=nan,\n",
              "             estimator=XGBClassifier(base_score=0.5, booster='gbtree',\n",
              "                                     colsample_bylevel=1, colsample_bynode=1,\n",
              "                                     colsample_bytree=1, gamma=0,\n",
              "                                     learning_rate=0.1, max_delta_step=0,\n",
              "                                     max_depth=3, min_child_weight=1,\n",
              "                                     missing=None, n_estimators=100, n_jobs=1,\n",
              "                                     nthread=4, objective='binary:logistic',\n",
              "                                     rand...=0, reg_lambda=1,\n",
              "                                     scale_pos_weight=1, seed=42, silent=None,\n",
              "                                     subsample=1, verbosity=1),\n",
              "             iid='deprecated', n_jobs=10,\n",
              "             param_grid={'learning_rate': [0.01, 0.1, 0.2, 0.3],\n",
              "                         'max_depth': range(2, 10),\n",
              "                         'n_estimators': range(50, 301, 50)},\n",
              "             pre_dispatch='2*n_jobs', refit='AUC', return_train_score=False,\n",
              "             scoring={'AUC': 'roc_auc',\n",
              "                      'Accuracy': make_scorer(accuracy_score)},\n",
              "             verbose=True)"
            ]
          },
          "metadata": {
            "tags": []
          },
          "execution_count": 52
        }
      ]
    },
    {
      "cell_type": "code",
      "metadata": {
        "colab": {
          "base_uri": "https://localhost:8080/"
        },
        "id": "mwK2015PmbI0",
        "outputId": "902e5d43-f34e-4749-9a94-e2aec16ddc17"
      },
      "source": [
        "grid_search.best_estimator_"
      ],
      "execution_count": 53,
      "outputs": [
        {
          "output_type": "execute_result",
          "data": {
            "text/plain": [
              "XGBClassifier(base_score=0.5, booster='gbtree', colsample_bylevel=1,\n",
              "              colsample_bynode=1, colsample_bytree=1, gamma=0,\n",
              "              learning_rate=0.2, max_delta_step=0, max_depth=3,\n",
              "              min_child_weight=1, missing=None, n_estimators=50, n_jobs=1,\n",
              "              nthread=4, objective='binary:logistic', random_state=0,\n",
              "              reg_alpha=0, reg_lambda=1, scale_pos_weight=1, seed=42,\n",
              "              silent=None, subsample=1, verbosity=1)"
            ]
          },
          "metadata": {
            "tags": []
          },
          "execution_count": 53
        }
      ]
    },
    {
      "cell_type": "code",
      "metadata": {
        "colab": {
          "base_uri": "https://localhost:8080/"
        },
        "id": "1i9UQhEg2xyY",
        "outputId": "f4fb3898-24e4-4af7-bee7-a605f9194137"
      },
      "source": [
        "# LETS FIR XGBOOST CLASSIFIER MODEL \r\n",
        "\r\n",
        "from xgboost import XGBClassifier\r\n",
        "\r\n",
        "xgboost_model_2 = XGBClassifier(base_score=0.5, booster='gbtree', colsample_bylevel=1,\r\n",
        "              colsample_bynode=1, colsample_bytree=1, gamma=0,\r\n",
        "              learning_rate=0.2, max_delta_step=0, max_depth=3,\r\n",
        "              min_child_weight=1, missing=None, n_estimators=50, n_jobs=1,\r\n",
        "              nthread=4, objective='binary:logistic', random_state=0,\r\n",
        "              reg_alpha=0, reg_lambda=1, scale_pos_weight=1, seed=42,\r\n",
        "              silent=None, subsample=1, verbosity=1)\r\n",
        "\r\n",
        "xgboost_model_2.fit(x_train, y_train)"
      ],
      "execution_count": 54,
      "outputs": [
        {
          "output_type": "stream",
          "text": [
            "/usr/local/lib/python3.7/dist-packages/sklearn/preprocessing/_label.py:235: DataConversionWarning: A column-vector y was passed when a 1d array was expected. Please change the shape of y to (n_samples, ), for example using ravel().\n",
            "  y = column_or_1d(y, warn=True)\n",
            "/usr/local/lib/python3.7/dist-packages/sklearn/preprocessing/_label.py:268: DataConversionWarning: A column-vector y was passed when a 1d array was expected. Please change the shape of y to (n_samples, ), for example using ravel().\n",
            "  y = column_or_1d(y, warn=True)\n"
          ],
          "name": "stderr"
        },
        {
          "output_type": "execute_result",
          "data": {
            "text/plain": [
              "XGBClassifier(base_score=0.5, booster='gbtree', colsample_bylevel=1,\n",
              "              colsample_bynode=1, colsample_bytree=1, gamma=0,\n",
              "              learning_rate=0.2, max_delta_step=0, max_depth=3,\n",
              "              min_child_weight=1, missing=None, n_estimators=50, n_jobs=1,\n",
              "              nthread=4, objective='binary:logistic', random_state=0,\n",
              "              reg_alpha=0, reg_lambda=1, scale_pos_weight=1, seed=42,\n",
              "              silent=None, subsample=1, verbosity=1)"
            ]
          },
          "metadata": {
            "tags": []
          },
          "execution_count": 54
        }
      ]
    },
    {
      "cell_type": "code",
      "metadata": {
        "colab": {
          "base_uri": "https://localhost:8080/"
        },
        "id": "G7_SF99Y25Wj",
        "outputId": "816905ca-ecef-49fb-dbc1-3f28626e557f"
      },
      "source": [
        "# predict using XGBOOST model\r\n",
        "\r\n",
        "y_pred_xgboost_2 = xgboost_model_2.predict(x_test) \r\n",
        "len(y_pred_xgboost_2)"
      ],
      "execution_count": 55,
      "outputs": [
        {
          "output_type": "execute_result",
          "data": {
            "text/plain": [
              "2000"
            ]
          },
          "metadata": {
            "tags": []
          },
          "execution_count": 55
        }
      ]
    },
    {
      "cell_type": "code",
      "metadata": {
        "colab": {
          "base_uri": "https://localhost:8080/"
        },
        "id": "G0bwu0CY3ALO",
        "outputId": "f9358003-7f8e-45d5-be59-ff6f4ce70240"
      },
      "source": [
        "#lets see the accuracy of the XGBOOST Best Params (GridSearch) model\r\n",
        "\r\n",
        "print(f\"\\nXGBOOST Best Params (GridSearch) \\nACCURACY SCORE  :  {accuracy_score(y_test,y_pred_xgboost_2)}\")"
      ],
      "execution_count": 56,
      "outputs": [
        {
          "output_type": "stream",
          "text": [
            "\n",
            "XGBOOST Best Params (GridSearch) \n",
            "ACCURACY SCORE  :  0.8685\n"
          ],
          "name": "stdout"
        }
      ]
    },
    {
      "cell_type": "code",
      "metadata": {
        "id": "nmUqNQgl3E5Y"
      },
      "source": [
        "accuracy_models=accuracy_models.append({\"Model\" : \"XGBOOST Best Params (gridsearch)\" , \r\n",
        "                        \"Accuracy Score\" : accuracy_score(y_test,y_pred_xgboost_2)}\r\n",
        "                       ,ignore_index=True)"
      ],
      "execution_count": 57,
      "outputs": []
    },
    {
      "cell_type": "code",
      "metadata": {
        "colab": {
          "base_uri": "https://localhost:8080/"
        },
        "id": "ZlLyPKZcvjjD",
        "outputId": "786f373c-a03c-4ff4-e0b0-757bc549009d"
      },
      "source": [
        "#LETS PRINT THE CONFUSION MATRIX OF THE XGBOOST Best Params (GridSearch) Model\r\n",
        "\r\n",
        "print(f\"\\nXGBOOST Best Params (GridSearch) Model \\nConfusion Matrix :\") \r\n",
        "print(confusion_matrix(y_test, y_pred_xgboost_2))\r\n"
      ],
      "execution_count": 58,
      "outputs": [
        {
          "output_type": "stream",
          "text": [
            "\n",
            "XGBOOST Best Params (GridSearch) Model \n",
            "Confusion Matrix :\n",
            "[[1549   58]\n",
            " [ 205  188]]\n"
          ],
          "name": "stdout"
        }
      ]
    },
    {
      "cell_type": "code",
      "metadata": {
        "colab": {
          "base_uri": "https://localhost:8080/"
        },
        "id": "hD8H9jYwvuQN",
        "outputId": "be7b608f-ea30-40a4-f6ea-2e9b9e65dffd"
      },
      "source": [
        "#lets print the classification report of the XGBOOST Best Params (GridSearch) Model\r\n",
        "\r\n",
        "print(\"CLASSIFICATION REPORT - XGBOOST Best Params (GridSearch) Model\\n\")\r\n",
        "print(classification_report(y_test, y_pred_xgboost_2))\r\n"
      ],
      "execution_count": 59,
      "outputs": [
        {
          "output_type": "stream",
          "text": [
            "CLASSIFICATION REPORT - XGBOOST Best Params (GridSearch) Model\n",
            "\n",
            "              precision    recall  f1-score   support\n",
            "\n",
            "           0       0.88      0.96      0.92      1607\n",
            "           1       0.76      0.48      0.59       393\n",
            "\n",
            "    accuracy                           0.87      2000\n",
            "   macro avg       0.82      0.72      0.76      2000\n",
            "weighted avg       0.86      0.87      0.86      2000\n",
            "\n"
          ],
          "name": "stdout"
        }
      ]
    },
    {
      "cell_type": "code",
      "metadata": {
        "colab": {
          "base_uri": "https://localhost:8080/",
          "height": 235
        },
        "id": "22-rcn91ygk7",
        "outputId": "db21c35d-10f2-49f1-86f2-bfb8f3f9bfae"
      },
      "source": [
        "accuracy_models"
      ],
      "execution_count": 60,
      "outputs": [
        {
          "output_type": "execute_result",
          "data": {
            "text/html": [
              "<div>\n",
              "<style scoped>\n",
              "    .dataframe tbody tr th:only-of-type {\n",
              "        vertical-align: middle;\n",
              "    }\n",
              "\n",
              "    .dataframe tbody tr th {\n",
              "        vertical-align: top;\n",
              "    }\n",
              "\n",
              "    .dataframe thead th {\n",
              "        text-align: right;\n",
              "    }\n",
              "</style>\n",
              "<table border=\"1\" class=\"dataframe\">\n",
              "  <thead>\n",
              "    <tr style=\"text-align: right;\">\n",
              "      <th></th>\n",
              "      <th>Model</th>\n",
              "      <th>Accuracy Score</th>\n",
              "    </tr>\n",
              "  </thead>\n",
              "  <tbody>\n",
              "    <tr>\n",
              "      <th>0</th>\n",
              "      <td>Logistic Regression</td>\n",
              "      <td>0.8150</td>\n",
              "    </tr>\n",
              "    <tr>\n",
              "      <th>1</th>\n",
              "      <td>Decision Tree</td>\n",
              "      <td>0.7960</td>\n",
              "    </tr>\n",
              "    <tr>\n",
              "      <th>2</th>\n",
              "      <td>Random Forest</td>\n",
              "      <td>0.8610</td>\n",
              "    </tr>\n",
              "    <tr>\n",
              "      <th>3</th>\n",
              "      <td>K Neighbour Classifier</td>\n",
              "      <td>0.7965</td>\n",
              "    </tr>\n",
              "    <tr>\n",
              "      <th>4</th>\n",
              "      <td>XGBOOST</td>\n",
              "      <td>0.8690</td>\n",
              "    </tr>\n",
              "    <tr>\n",
              "      <th>5</th>\n",
              "      <td>XGBOOST Best Params (gridsearch)</td>\n",
              "      <td>0.8685</td>\n",
              "    </tr>\n",
              "  </tbody>\n",
              "</table>\n",
              "</div>"
            ],
            "text/plain": [
              "                              Model  Accuracy Score\n",
              "0              Logistic Regression           0.8150\n",
              "1                     Decision Tree          0.7960\n",
              "2                     Random Forest          0.8610\n",
              "3            K Neighbour Classifier          0.7965\n",
              "4                           XGBOOST          0.8690\n",
              "5  XGBOOST Best Params (gridsearch)          0.8685"
            ]
          },
          "metadata": {
            "tags": []
          },
          "execution_count": 60
        }
      ]
    },
    {
      "cell_type": "markdown",
      "metadata": {
        "id": "c4ng_Y6V2tO6"
      },
      "source": [
        "# ACCURACY SCORES OF ALL MODELS TESTED"
      ]
    },
    {
      "cell_type": "code",
      "metadata": {
        "colab": {
          "base_uri": "https://localhost:8080/",
          "height": 235
        },
        "id": "QZ_pf9V-yhjx",
        "outputId": "5ccff74f-7d4b-45db-d1ab-774691542fd7"
      },
      "source": [
        "accuracy_models.sort_values(by=[\"Accuracy Score\"], ascending=False)"
      ],
      "execution_count": 61,
      "outputs": [
        {
          "output_type": "execute_result",
          "data": {
            "text/html": [
              "<div>\n",
              "<style scoped>\n",
              "    .dataframe tbody tr th:only-of-type {\n",
              "        vertical-align: middle;\n",
              "    }\n",
              "\n",
              "    .dataframe tbody tr th {\n",
              "        vertical-align: top;\n",
              "    }\n",
              "\n",
              "    .dataframe thead th {\n",
              "        text-align: right;\n",
              "    }\n",
              "</style>\n",
              "<table border=\"1\" class=\"dataframe\">\n",
              "  <thead>\n",
              "    <tr style=\"text-align: right;\">\n",
              "      <th></th>\n",
              "      <th>Model</th>\n",
              "      <th>Accuracy Score</th>\n",
              "    </tr>\n",
              "  </thead>\n",
              "  <tbody>\n",
              "    <tr>\n",
              "      <th>4</th>\n",
              "      <td>XGBOOST</td>\n",
              "      <td>0.8690</td>\n",
              "    </tr>\n",
              "    <tr>\n",
              "      <th>5</th>\n",
              "      <td>XGBOOST Best Params (gridsearch)</td>\n",
              "      <td>0.8685</td>\n",
              "    </tr>\n",
              "    <tr>\n",
              "      <th>2</th>\n",
              "      <td>Random Forest</td>\n",
              "      <td>0.8610</td>\n",
              "    </tr>\n",
              "    <tr>\n",
              "      <th>0</th>\n",
              "      <td>Logistic Regression</td>\n",
              "      <td>0.8150</td>\n",
              "    </tr>\n",
              "    <tr>\n",
              "      <th>3</th>\n",
              "      <td>K Neighbour Classifier</td>\n",
              "      <td>0.7965</td>\n",
              "    </tr>\n",
              "    <tr>\n",
              "      <th>1</th>\n",
              "      <td>Decision Tree</td>\n",
              "      <td>0.7960</td>\n",
              "    </tr>\n",
              "  </tbody>\n",
              "</table>\n",
              "</div>"
            ],
            "text/plain": [
              "                              Model  Accuracy Score\n",
              "4                           XGBOOST          0.8690\n",
              "5  XGBOOST Best Params (gridsearch)          0.8685\n",
              "2                     Random Forest          0.8610\n",
              "0              Logistic Regression           0.8150\n",
              "3            K Neighbour Classifier          0.7965\n",
              "1                     Decision Tree          0.7960"
            ]
          },
          "metadata": {
            "tags": []
          },
          "execution_count": 61
        }
      ]
    },
    {
      "cell_type": "markdown",
      "metadata": {
        "id": "wlI8b8SSbP6N"
      },
      "source": [
        "# _______________________________ END OF NOTEBOOK _______________________________"
      ]
    }
  ]
}